{
 "cells": [
  {
   "cell_type": "code",
   "execution_count": 16,
   "metadata": {
    "collapsed": true
   },
   "outputs": [],
   "source": [
    "import tensorflow as tf\n",
    "import matplotlib.pyplot as plt\n",
    "import numpy as np\n",
    "import random\n",
    "import os\n",
    "import pickle\n",
    "import string\n",
    "import requests\n",
    "import collections\n",
    "import io\n",
    "import tarfile\n",
    "import urllib.request\n",
    "from nltk.corpus import stopwords\n",
    "from tensorflow.python.framework import ops\n",
    "ops.reset_default_graph()\n",
    "\n",
    "# テキストヘルパースクリプトのロード\n",
    "import text_helpers\n",
    "\n",
    "sess = tf.Session()"
   ]
  },
  {
   "cell_type": "code",
   "execution_count": 17,
   "metadata": {
    "collapsed": true
   },
   "outputs": [],
   "source": [
    "# 保存先のフォルダが存在しない場合は作成\n",
    "data_folder_name = 'temp'\n",
    "if not os.path.exists(data_folder_name):\n",
    "    os.makedirs(data_folder_name)"
   ]
  },
  {
   "cell_type": "code",
   "execution_count": 18,
   "metadata": {
    "collapsed": true
   },
   "outputs": [],
   "source": [
    "batch_size = 200            # このモデルのバッチサイズ\n",
    "embedding_size = 200        # 単語の埋め込みサイズ\n",
    "vocabulary_size = 2000      # トレーニングの対象となる単語の数\n",
    "generations = 50000         # トレーニングの実行回数\n",
    "model_learning_rate = 0.05   # 学習率\n",
    "\n",
    "num_sampled = int(batch_size/2) # 不正解サンプルの数\n",
    "window_size = 3                 # 考慮の対象となる前後の単語の数\n",
    "\n",
    "# トレーニングのチェックポイントを追加\n",
    "save_embeddings_every = 5000\n",
    "print_valid_every = 5000\n",
    "print_loss_every = 1000"
   ]
  },
  {
   "cell_type": "code",
   "execution_count": 19,
   "metadata": {
    "collapsed": true
   },
   "outputs": [],
   "source": [
    "# ストップワードを設定\n",
    "stops = stopwords.words('english')\n",
    "\n",
    "# 同義語が見つかることを期待して、テストワードを6つ選択\n",
    "valid_words = ['love', 'hate', 'happy', 'sad', 'man', 'woman']"
   ]
  },
  {
   "cell_type": "code",
   "execution_count": 20,
   "metadata": {},
   "outputs": [],
   "source": [
    "# 映画レビューデータをロード\n",
    "texts, target = text_helpers.load_movie_data()\n",
    "\n",
    "# テキストを正規化\n",
    "texts = text_helpers.normalize_text(texts, stops)\n",
    "\n",
    "# テキストには少なくとも3つの単語が含まれていなければならない\n",
    "target = [target[ix] for ix, x in enumerate(texts) if len(x.split()) > 2]\n",
    "texts = [x for x in texts if len(x.split()) > 2]"
   ]
  },
  {
   "cell_type": "code",
   "execution_count": 21,
   "metadata": {},
   "outputs": [],
   "source": [
    "# データセットとディクショナリを構築\n",
    "word_dictionary = text_helpers.build_dictionary(texts, vocabulary_size)\n",
    "word_dictionary_rev = dict(zip(word_dictionary.values(), word_dictionary.keys()))\n",
    "text_data = text_helpers.text_to_numbers(texts, word_dictionary)\n",
    "\n",
    "# テキストワードのキーを取得\n",
    "valid_examples = [word_dictionary[x] for x in valid_words]"
   ]
  },
  {
   "cell_type": "code",
   "execution_count": 22,
   "metadata": {},
   "outputs": [],
   "source": [
    "# 単語埋め込みを定義\n",
    "embeddings = tf.Variable(tf.random_uniform([vocabulary_size, embedding_size], -1.0, 1.0))\n",
    "# プレースホルダを作成\n",
    "x_inputs = tf.placeholder(tf.int32, shape=[batch_size, 2*window_size])\n",
    "y_target = tf.placeholder(tf.int32, shape=[batch_size, 1])\n",
    "valid_dataset = tf.constant(valid_examples, dtype=tf.int32)"
   ]
  },
  {
   "cell_type": "code",
   "execution_count": 23,
   "metadata": {
    "collapsed": true
   },
   "outputs": [],
   "source": [
    "# 単語埋め込みを検索し、ウィンドウの埋め込みを結合\n",
    "embed = tf.zeros([batch_size, embedding_size])\n",
    "for element in range(2*window_size):\n",
    "    embed += tf.nn.embedding_lookup(embeddings, x_inputs[:, element])"
   ]
  },
  {
   "cell_type": "code",
   "execution_count": 24,
   "metadata": {
    "collapsed": true
   },
   "outputs": [],
   "source": [
    "# NCE損失関数のパラメータ\n",
    "nce_weights = tf.Variable(tf.truncated_normal([vocabulary_size, embedding_size],\n",
    "                                               stddev=1.0 / np.sqrt(embedding_size)))\n",
    "nce_biases = tf.Variable(tf.zeros([vocabulary_size]))\n",
    "\n",
    "# NCE損失関数を設定\n",
    "loss = tf.reduce_mean(tf.nn.nce_loss(weights=nce_weights,\n",
    "                                     biases=nce_biases,\n",
    "                                     labels=y_target,\n",
    "                                     inputs=embed,\n",
    "                                     num_sampled=num_sampled,\n",
    "                                     num_classes=vocabulary_size))"
   ]
  },
  {
   "cell_type": "code",
   "execution_count": 25,
   "metadata": {
    "collapsed": true
   },
   "outputs": [],
   "source": [
    "norm = tf.sqrt(tf.reduce_sum(tf.square(embeddings), 1, keep_dims=True))\n",
    "normalized_embeddings = embeddings / norm\n",
    "valid_embeddings = tf.nn.embedding_lookup(normalized_embeddings, valid_dataset)\n",
    "similarity = tf.matmul(valid_embeddings, normalized_embeddings, transpose_b=True)"
   ]
  },
  {
   "cell_type": "code",
   "execution_count": 26,
   "metadata": {
    "collapsed": true
   },
   "outputs": [],
   "source": [
    "saver = tf.train.Saver({\"embeddings\": embeddings})"
   ]
  },
  {
   "cell_type": "code",
   "execution_count": 27,
   "metadata": {
    "collapsed": true
   },
   "outputs": [],
   "source": [
    "optimizer = tf.train.GradientDescentOptimizer(learning_rate=model_learning_rate).minimize(loss)\n",
    "\n",
    "init = tf.global_variables_initializer()\n",
    "sess.run(init)"
   ]
  },
  {
   "cell_type": "code",
   "execution_count": 28,
   "metadata": {
    "collapsed": true
   },
   "outputs": [],
   "source": [
    "text_data = [x for x in text_data if len(x)>=(2*window_size+1)]"
   ]
  },
  {
   "cell_type": "code",
   "execution_count": 29,
   "metadata": {},
   "outputs": [
    {
     "name": "stdout",
     "output_type": "stream",
     "text": [
      "Loss at step 1000 : 7.155556678771973\n",
      "Loss at step 2000 : 5.738989353179932\n",
      "Loss at step 3000 : 5.620214462280273\n",
      "Loss at step 4000 : 4.568193435668945\n",
      "Loss at step 5000 : 4.566842555999756\n",
      "Nearest to love: narc, christian, seeing, score, romance,\n",
      "Nearest to hate: holes, sympathy, tragic, reminds, safe,\n",
      "Nearest to happy: entertaining, dancing, utter, giving, place,\n",
      "Nearest to sad: blue, enjoy, depiction, though, see,\n",
      "Nearest to man: actors, class, biggest, among, attempt,\n",
      "Nearest to woman: constructed, given, let, issues, terrific,\n",
      "Model saved in file: /notebooks/temp/cbow_movie_embeddings.ckpt\n",
      "Loss at step 6000 : 4.194599628448486\n",
      "Loss at step 7000 : 4.184915542602539\n",
      "Loss at step 8000 : 4.411159515380859\n",
      "Loss at step 9000 : 4.133355617523193\n",
      "Loss at step 10000 : 4.009302616119385\n",
      "Nearest to love: narc, score, christian, seeing, romance,\n",
      "Nearest to hate: holes, sympathy, tragic, reminds, RARE,\n",
      "Nearest to happy: entertaining, dancing, utter, giving, place,\n",
      "Nearest to sad: blue, enjoy, depiction, though, see,\n",
      "Nearest to man: biggest, class, actors, among, vulgar,\n",
      "Nearest to woman: constructed, given, let, issues, terrific,\n",
      "Model saved in file: /notebooks/temp/cbow_movie_embeddings.ckpt\n",
      "Loss at step 11000 : 3.9625492095947266\n",
      "Loss at step 12000 : 3.7216222286224365\n",
      "Loss at step 13000 : 3.6267495155334473\n",
      "Loss at step 14000 : 3.4678473472595215\n",
      "Loss at step 15000 : 3.450906753540039\n",
      "Nearest to love: narc, score, christian, seeing, romance,\n",
      "Nearest to hate: holes, sympathy, RARE, tragic, reminds,\n",
      "Nearest to happy: entertaining, dancing, utter, giving, place,\n",
      "Nearest to sad: blue, enjoy, depiction, though, throughout,\n",
      "Nearest to man: biggest, class, vulgar, among, actors,\n",
      "Nearest to woman: constructed, given, let, terrific, issues,\n",
      "Model saved in file: /notebooks/temp/cbow_movie_embeddings.ckpt\n",
      "Loss at step 16000 : 3.4722042083740234\n",
      "Loss at step 17000 : 3.522254228591919\n",
      "Loss at step 18000 : 3.386314630508423\n",
      "Loss at step 19000 : 3.292208671569824\n",
      "Loss at step 20000 : 3.384397506713867\n",
      "Nearest to love: narc, score, christian, seeing, romance,\n",
      "Nearest to hate: holes, sympathy, RARE, tragic, reminds,\n",
      "Nearest to happy: entertaining, dancing, utter, giving, place,\n",
      "Nearest to sad: blue, enjoy, depiction, throughout, though,\n",
      "Nearest to man: biggest, class, vulgar, among, actors,\n",
      "Nearest to woman: constructed, given, let, terrific, issues,\n",
      "Model saved in file: /notebooks/temp/cbow_movie_embeddings.ckpt\n",
      "Loss at step 21000 : 3.311020612716675\n",
      "Loss at step 22000 : 3.2347490787506104\n",
      "Loss at step 23000 : 3.002951145172119\n",
      "Loss at step 24000 : 3.318380117416382\n",
      "Loss at step 25000 : 3.0137178897857666\n",
      "Nearest to love: narc, score, christian, seeing, romance,\n",
      "Nearest to hate: holes, sympathy, RARE, tragic, reminds,\n",
      "Nearest to happy: dancing, entertaining, utter, giving, place,\n",
      "Nearest to sad: blue, depiction, enjoy, throughout, though,\n",
      "Nearest to man: biggest, vulgar, class, among, actors,\n",
      "Nearest to woman: constructed, terrific, let, given, issues,\n",
      "Model saved in file: /notebooks/temp/cbow_movie_embeddings.ckpt\n",
      "Loss at step 26000 : 3.013263463973999\n",
      "Loss at step 27000 : 3.106951951980591\n",
      "Loss at step 28000 : 2.8143720626831055\n",
      "Loss at step 29000 : 2.9065146446228027\n",
      "Loss at step 30000 : 3.0073320865631104\n",
      "Nearest to love: narc, score, christian, seeing, romance,\n",
      "Nearest to hate: holes, sympathy, RARE, tragic, safe,\n",
      "Nearest to happy: dancing, entertaining, utter, giving, place,\n",
      "Nearest to sad: blue, depiction, enjoy, throughout, intense,\n",
      "Nearest to man: biggest, vulgar, class, among, actors,\n",
      "Nearest to woman: constructed, terrific, let, given, issues,\n",
      "Model saved in file: /notebooks/temp/cbow_movie_embeddings.ckpt\n",
      "Loss at step 31000 : 3.0062060356140137\n",
      "Loss at step 32000 : 2.955700159072876\n",
      "Loss at step 33000 : 2.6015312671661377\n",
      "Loss at step 34000 : 2.773178815841675\n",
      "Loss at step 35000 : 2.880876064300537\n",
      "Nearest to love: narc, score, christian, seeing, romance,\n",
      "Nearest to hate: holes, sympathy, tragic, safe, reminds,\n",
      "Nearest to happy: dancing, entertaining, utter, giving, place,\n",
      "Nearest to sad: blue, depiction, enjoy, throughout, intense,\n",
      "Nearest to man: biggest, vulgar, class, among, actors,\n",
      "Nearest to woman: constructed, terrific, let, issues, given,\n",
      "Model saved in file: /notebooks/temp/cbow_movie_embeddings.ckpt\n",
      "Loss at step 36000 : 2.9367504119873047\n",
      "Loss at step 37000 : 2.591151714324951\n",
      "Loss at step 38000 : 2.6217851638793945\n",
      "Loss at step 39000 : 2.8290557861328125\n",
      "Loss at step 40000 : 2.7343335151672363\n",
      "Nearest to love: narc, score, christian, seeing, romance,\n",
      "Nearest to hate: holes, sympathy, tragic, RARE, safe,\n",
      "Nearest to happy: utter, dancing, entertaining, giving, place,\n",
      "Nearest to sad: blue, depiction, enjoy, throughout, intense,\n",
      "Nearest to man: biggest, vulgar, class, among, actors,\n",
      "Nearest to woman: constructed, terrific, let, notice, issues,\n",
      "Model saved in file: /notebooks/temp/cbow_movie_embeddings.ckpt\n",
      "Loss at step 41000 : 2.9101061820983887\n",
      "Loss at step 42000 : 2.7017834186553955\n",
      "Loss at step 43000 : 2.615626811981201\n",
      "Loss at step 44000 : 2.57586669921875\n",
      "Loss at step 45000 : 2.710970878601074\n",
      "Nearest to love: narc, score, christian, seeing, romance,\n",
      "Nearest to hate: holes, sympathy, tragic, safe, RARE,\n",
      "Nearest to happy: utter, dancing, entertaining, giving, place,\n",
      "Nearest to sad: blue, depiction, enjoy, throughout, intense,\n",
      "Nearest to man: biggest, vulgar, class, among, actors,\n",
      "Nearest to woman: constructed, terrific, notice, let, issues,\n",
      "Model saved in file: /notebooks/temp/cbow_movie_embeddings.ckpt\n",
      "Loss at step 46000 : 2.925291061401367\n",
      "Loss at step 47000 : 2.6586389541625977\n",
      "Loss at step 48000 : 2.701536178588867\n",
      "Loss at step 49000 : 2.6893157958984375\n",
      "Loss at step 50000 : 2.55550479888916\n",
      "Nearest to love: narc, score, christian, seeing, romance,\n",
      "Nearest to hate: holes, sympathy, tragic, safe, RARE,\n",
      "Nearest to happy: utter, dancing, giving, entertaining, place,\n",
      "Nearest to sad: blue, depiction, enjoy, throughout, intense,\n",
      "Nearest to man: biggest, vulgar, class, among, actors,\n",
      "Nearest to woman: constructed, terrific, notice, let, episode,\n",
      "Model saved in file: /notebooks/temp/cbow_movie_embeddings.ckpt\n"
     ]
    }
   ],
   "source": [
    "loss_vec = []\n",
    "loss_x_vec = []\n",
    "for i in range(generations):\n",
    "    batch_inputs, batch_labels = text_helpers.generate_batch_data(text_data, batch_size,\n",
    "                                                                  window_size, method='cbow')\n",
    "    feed_dict = {x_inputs : batch_inputs, y_target : batch_labels}\n",
    "\n",
    "    # トレーニングステップを実行\n",
    "    sess.run(optimizer, feed_dict=feed_dict)\n",
    "\n",
    "    # 損失値を取得\n",
    "    if (i+1) % print_loss_every == 0:\n",
    "        loss_val = sess.run(loss, feed_dict=feed_dict)\n",
    "        loss_vec.append(loss_val)\n",
    "        loss_x_vec.append(i+1)\n",
    "        print('Loss at step {} : {}'.format(i+1, loss_val))\n",
    "      \n",
    "    # 検証：テストワードと最も関連する上位5つの単語を出力\n",
    "    if (i+1) % print_valid_every == 0:\n",
    "        sim = sess.run(similarity, feed_dict=feed_dict)\n",
    "        for j in range(len(valid_words)):\n",
    "            valid_word = word_dictionary_rev[valid_examples[j]]\n",
    "            top_k = 5 # 最も近くにある単語の数\n",
    "            nearest = (-sim[j, :]).argsort()[1:top_k+1]\n",
    "            log_str = \"Nearest to {}:\".format(valid_word)\n",
    "            for k in range(top_k):\n",
    "                close_word = word_dictionary_rev[nearest[k]]\n",
    "                log_str = '{} {},' .format(log_str, close_word)\n",
    "            print(log_str)\n",
    "            \n",
    "    # ディクショナリと埋め込みを保存\n",
    "    if (i+1) % save_embeddings_every == 0:\n",
    "        # 語彙ディクショナリを保存\n",
    "        with open(os.path.join(data_folder_name,'movie_vocab.pkl'), 'wb') as f:\n",
    "            pickle.dump(word_dictionary, f)\n",
    "        \n",
    "        # 埋め込みを保存\n",
    "        model_checkpoint_path = os.path.join(os.getcwd(),data_folder_name,'cbow_movie_embeddings.ckpt')\n",
    "        save_path = saver.save(sess, model_checkpoint_path)\n",
    "        print('Model saved in file: {}'.format(save_path))"
   ]
  },
  {
   "cell_type": "code",
   "execution_count": 30,
   "metadata": {},
   "outputs": [
    {
     "data": {
      "image/png": "[encoded data removed]",
      "text/plain": [
       "<matplotlib.figure.Figure at 0x7fec56df44a8>"
      ]
     },
     "metadata": {},
     "output_type": "display_data"
    }
   ],
   "source": [
    "# Plot loss over time\n",
    "plt.plot(loss_x_vec, loss_vec, 'k-')\n",
    "plt.title('Training Loss per Generation')\n",
    "plt.xlabel('Generation')\n",
    "plt.ylabel('Loss')\n",
    "plt.show()"
   ]
  },
  {
   "cell_type": "code",
   "execution_count": null,
   "metadata": {
    "collapsed": true
   },
   "outputs": [],
   "source": []
  }
 ],
 "metadata": {
  "kernelspec": {
   "display_name": "Python 3",
   "language": "python",
   "name": "python3"
  },
  "language_info": {
   "codemirror_mode": {
    "name": "ipython",
    "version": 3
   },
   "file_extension": ".py",
   "mimetype": "text/x-python",
   "name": "python",
   "nbconvert_exporter": "python",
   "pygments_lexer": "ipython3",
   "version": "3.6.2"
  }
 },
 "nbformat": 4,
 "nbformat_minor": 2
}
