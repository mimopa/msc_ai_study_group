{
 "cells": [
  {
   "cell_type": "code",
   "execution_count": 72,
   "metadata": {},
   "outputs": [],
   "source": [
    "import matplotlib.pyplot as plt\n",
    "import numpy as np\n",
    "import tensorflow as tf\n",
    "from tensorflow.python.framework import ops\n",
    "ops.reset_default_graph()\n",
    "\n",
    "sess = tf.Session()"
   ]
  },
  {
   "cell_type": "code",
   "execution_count": 73,
   "metadata": {},
   "outputs": [],
   "source": [
    "batch_size = 20"
   ]
  },
  {
   "cell_type": "code",
   "execution_count": 74,
   "metadata": {},
   "outputs": [],
   "source": [
    "x_vals = np.random.normal(1, 0.1, 100)\n",
    "y_vals = np.repeat(10., 100)\n",
    "x_data = tf.placeholder(shape=[None, 1], dtype=tf.float32)\n",
    "y_target = tf.placeholder(shape=[None, 1], dtype=tf.float32)\n",
    "A = tf.Variable(tf.random_normal(shape=[1,1]))"
   ]
  },
  {
   "cell_type": "code",
   "execution_count": 75,
   "metadata": {},
   "outputs": [],
   "source": [
    "my_output = tf.multiply(x_data, A)"
   ]
  },
  {
   "cell_type": "code",
   "execution_count": 76,
   "metadata": {},
   "outputs": [],
   "source": [
    "loss = tf.reduce_mean(tf.square(my_output - y_target))"
   ]
  },
  {
   "cell_type": "code",
   "execution_count": 77,
   "metadata": {},
   "outputs": [],
   "source": [
    "init = tf.global_variables_initializer()\n",
    "sess.run(init)"
   ]
  },
  {
   "cell_type": "code",
   "execution_count": 78,
   "metadata": {},
   "outputs": [],
   "source": [
    "my_opt = tf.train.GradientDescentOptimizer(0.02)\n",
    "train_step = my_opt.minimize(loss)"
   ]
  },
  {
   "cell_type": "code",
   "execution_count": 79,
   "metadata": {},
   "outputs": [
    {
     "name": "stdout",
     "output_type": "stream",
     "text": [
      "Step #5 A = [[ 0.76676887]]\n",
      "Loss = 85.0834\n",
      "Step #10 A = [[ 2.4722538]]\n",
      "Loss = 57.788\n",
      "Step #15 A = [[ 3.85539079]]\n",
      "Loss = 38.3031\n",
      "Step #20 A = [[ 4.97910547]]\n",
      "Loss = 24.4071\n",
      "Step #25 A = [[ 5.8921504]]\n",
      "Loss = 17.9916\n",
      "Step #30 A = [[ 6.63595152]]\n",
      "Loss = 11.3917\n",
      "Step #35 A = [[ 7.24213266]]\n",
      "Loss = 6.81979\n",
      "Step #40 A = [[ 7.74985123]]\n",
      "Loss = 6.52605\n",
      "Step #45 A = [[ 8.1337471]]\n",
      "Loss = 5.25982\n",
      "Step #50 A = [[ 8.44218445]]\n",
      "Loss = 2.7871\n",
      "Step #55 A = [[ 8.68873596]]\n",
      "Loss = 3.71197\n",
      "Step #60 A = [[ 8.90951824]]\n",
      "Loss = 2.0184\n",
      "Step #65 A = [[ 9.06173992]]\n",
      "Loss = 1.32571\n",
      "Step #70 A = [[ 9.21479893]]\n",
      "Loss = 2.72559\n",
      "Step #75 A = [[ 9.32526779]]\n",
      "Loss = 1.85007\n",
      "Step #80 A = [[ 9.4183321]]\n",
      "Loss = 1.36161\n",
      "Step #85 A = [[ 9.47792244]]\n",
      "Loss = 0.963852\n",
      "Step #90 A = [[ 9.54480934]]\n",
      "Loss = 0.721524\n",
      "Step #95 A = [[ 9.60671616]]\n",
      "Loss = 0.989431\n",
      "Step #100 A = [[ 9.6639986]]\n",
      "Loss = 1.13513\n"
     ]
    }
   ],
   "source": [
    "loss_batch = []\n",
    "for i in range(100):\n",
    "    rand_index = np.random.choice(100, size=batch_size)\n",
    "    rand_x = np.transpose([x_vals[rand_index]])\n",
    "    rand_y = np.transpose([y_vals[rand_index]])\n",
    "    sess.run(train_step, feed_dict={x_data: rand_x, y_target: rand_y})\n",
    "    if (i+1)%5==0:\n",
    "        print('Step #' + str(i+1) + ' A = ' + str(sess.run(A)))\n",
    "        temp_loss = sess.run(loss, feed_dict={x_data: rand_x, y_target: rand_y})\n",
    "        print('Loss = ' + str(temp_loss))\n",
    "        loss_batch.append(temp_loss)"
   ]
  },
  {
   "cell_type": "code",
   "execution_count": 80,
   "metadata": {},
   "outputs": [],
   "source": [
    "ops.reset_default_graph()\n",
    "sess = tf.Session()"
   ]
  },
  {
   "cell_type": "code",
   "execution_count": 81,
   "metadata": {},
   "outputs": [],
   "source": [
    "x_vals = np.random.normal(1, 0.1, 100)\n",
    "y_vals = np.repeat(10., 100)\n",
    "\n",
    "x_data = tf.placeholder(shape=[1], dtype=tf.float32)\n",
    "y_target = tf.placeholder(shape=[1], dtype=tf.float32)"
   ]
  },
  {
   "cell_type": "code",
   "execution_count": 82,
   "metadata": {},
   "outputs": [],
   "source": [
    "# Create variable (one model parameter = A)\n",
    "A = tf.Variable(tf.random_normal(shape=[1]))\n",
    "\n",
    "# Add operation to graph\n",
    "my_output = tf.multiply(x_data, A)"
   ]
  },
  {
   "cell_type": "code",
   "execution_count": 83,
   "metadata": {},
   "outputs": [],
   "source": [
    "\n",
    "# Add L2 loss operation to graph\n",
    "loss = tf.square(my_output - y_target)"
   ]
  },
  {
   "cell_type": "code",
   "execution_count": 84,
   "metadata": {},
   "outputs": [],
   "source": [
    "# Create Optimizer\n",
    "my_opt = tf.train.GradientDescentOptimizer(0.02)\n",
    "train_step = my_opt.minimize(loss)\n",
    "\n",
    "# Initialize variables\n",
    "init = tf.global_variables_initializer()\n",
    "sess.run(init)"
   ]
  },
  {
   "cell_type": "code",
   "execution_count": 85,
   "metadata": {},
   "outputs": [
    {
     "name": "stdout",
     "output_type": "stream",
     "text": [
      "Step #5 A = [ 1.53261757]\n",
      "Loss = [ 71.38001251]\n",
      "Step #10 A = [ 3.12871075]\n",
      "Loss = [ 44.99625397]\n",
      "Step #15 A = [ 4.4154253]\n",
      "Loss = [ 34.36611938]\n",
      "Step #20 A = [ 5.42514133]\n",
      "Loss = [ 12.86611366]\n",
      "Step #25 A = [ 6.26306629]\n",
      "Loss = [ 15.71722603]\n",
      "Step #30 A = [ 6.95100307]\n",
      "Loss = [ 11.45087433]\n",
      "Step #35 A = [ 7.47212076]\n",
      "Loss = [ 10.30812645]\n",
      "Step #40 A = [ 7.90964699]\n",
      "Loss = [ 3.18812442]\n",
      "Step #45 A = [ 8.29492283]\n",
      "Loss = [ 4.6863637]\n",
      "Step #50 A = [ 8.64748859]\n",
      "Loss = [ 0.38204664]\n",
      "Step #55 A = [ 8.76995182]\n",
      "Loss = [ 1.45422053]\n",
      "Step #60 A = [ 9.10702991]\n",
      "Loss = [ 0.98171091]\n",
      "Step #65 A = [ 9.18103409]\n",
      "Loss = [ 0.11531559]\n",
      "Step #70 A = [ 9.32535076]\n",
      "Loss = [ 0.015516]\n",
      "Step #75 A = [ 9.57402325]\n",
      "Loss = [ 0.11672929]\n",
      "Step #80 A = [ 9.55693054]\n",
      "Loss = [ 0.0207017]\n",
      "Step #85 A = [ 9.56188679]\n",
      "Loss = [ 1.12496197]\n",
      "Step #90 A = [ 9.68716526]\n",
      "Loss = [ 0.44197005]\n",
      "Step #95 A = [ 9.67840385]\n",
      "Loss = [ 0.02587289]\n",
      "Step #100 A = [ 9.78861046]\n",
      "Loss = [ 0.00069221]\n"
     ]
    }
   ],
   "source": [
    "loss_stochastic = []\n",
    "# Run Loop\n",
    "for i in range(100):\n",
    "    rand_index = np.random.choice(100)\n",
    "    rand_x = [x_vals[rand_index]]\n",
    "    rand_y = [y_vals[rand_index]]\n",
    "    sess.run(train_step, feed_dict={x_data: rand_x, y_target: rand_y})\n",
    "    if (i+1)%5==0:\n",
    "        print('Step #' + str(i+1) + ' A = ' + str(sess.run(A)))\n",
    "        temp_loss = sess.run(loss, feed_dict={x_data: rand_x, y_target: rand_y})\n",
    "        print('Loss = ' + str(temp_loss))\n",
    "        loss_stochastic.append(temp_loss)"
   ]
  },
  {
   "cell_type": "code",
   "execution_count": 86,
   "metadata": {},
   "outputs": [
    {
     "data": {
      "image/png": "[encoded data removed]",
      "text/plain": [
       "<matplotlib.figure.Figure at 0x7faaabec0d30>"
      ]
     },
     "metadata": {},
     "output_type": "display_data"
    }
   ],
   "source": [
    "plt.plot(range(0, 100, 5), loss_stochastic, 'b-', label='Stochastic Loss')\n",
    "plt.plot(range(0, 100, 5), loss_batch, 'r--', label='Batch Loss, size=20')\n",
    "plt.legend(loc='upper right', prop={'size': 11})\n",
    "plt.show()"
   ]
  },
  {
   "cell_type": "code",
   "execution_count": null,
   "metadata": {},
   "outputs": [],
   "source": []
  }
 ],
 "metadata": {
  "kernelspec": {
   "display_name": "Python 3",
   "language": "python",
   "name": "python3"
  },
  "language_info": {
   "codemirror_mode": {
    "name": "ipython",
    "version": 3
   },
   "file_extension": ".py",
   "mimetype": "text/x-python",
   "name": "python",
   "nbconvert_exporter": "python",
   "pygments_lexer": "ipython3",
   "version": "3.6.3"
  }
 },
 "nbformat": 4,
 "nbformat_minor": 2
}
