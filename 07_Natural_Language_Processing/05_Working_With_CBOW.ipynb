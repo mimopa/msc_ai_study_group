{
 "cells": [
  {
   "cell_type": "code",
   "execution_count": 3,
   "metadata": {},
   "outputs": [],
   "source": [
    "\n",
    "import tensorflow as tf\n",
    "import matplotlib.pyplot as plt\n",
    "import numpy as np\n",
    "import random\n",
    "import os\n",
    "import pickle\n",
    "import string\n",
    "import requests\n",
    "import collections\n",
    "import io\n",
    "import tarfile\n",
    "import urllib.request\n",
    "from nltk.corpus import stopwords\n",
    "from tensorflow.python.framework import ops\n",
    "ops.reset_default_graph()\n",
    "\n",
    "# Load text helpers\n",
    "import text_helpers\n",
    "\n",
    "sess = tf.Session()"
   ]
  },
  {
   "cell_type": "code",
   "execution_count": 5,
   "metadata": {
    "collapsed": true
   },
   "outputs": [],
   "source": [
    "# 保存先のフォルダが存在しない場合は作成\n",
    "data_folder_name = 'temp'\n",
    "if not os.path.exists(data_folder_name):\n",
    "    os.makedirs(data_folder_name)"
   ]
  },
  {
   "cell_type": "code",
   "execution_count": 6,
   "metadata": {
    "collapsed": true
   },
   "outputs": [],
   "source": [
    "batch_size = 200            # このモデルのバッチサイズ\n",
    "embedding_size = 50        # 単語の埋め込みサイズ\n",
    "vocabulary_size = 2000      # トレーニングの対象となる単語の数\n",
    "generations = 50000         # トレーニングの実行回数\n",
    "model_learning_rate = 0.05   # 学習率\n",
    "\n",
    "num_sampled = int(batch_size/2) # 不正解サンプルの数\n",
    "window_size = 3                 # 考慮の対象となる前後の単語の数\n",
    "\n",
    "# トレーニングのチェックポイントを追加\n",
    "save_embeddings_every = 5000\n",
    "print_valid_every = 5000\n",
    "print_loss_every = 1000"
   ]
  },
  {
   "cell_type": "code",
   "execution_count": 7,
   "metadata": {
    "collapsed": true
   },
   "outputs": [],
   "source": [
    "# ストップワードを設定\n",
    "stops = stopwords.words('english')\n",
    "\n",
    "# 同義語が見つかることを期待して、テストワードを6つ選択\n",
    "valid_words = ['love', 'hate', 'happy', 'sad', 'man', 'woman']"
   ]
  },
  {
   "cell_type": "code",
   "execution_count": 8,
   "metadata": {},
   "outputs": [
    {
     "name": "stdout",
     "output_type": "stream",
     "text": [
      "Loading Data\n",
      "Normalizing Text Data\n",
      "Done.\n"
     ]
    }
   ],
   "source": [
    "# 映画レビューデータをロード\n",
    "print('Loading Data')\n",
    "texts, target = text_helpers.load_movie_data()\n",
    "\n",
    "# テキストを正規化\n",
    "print('Normalizing Text Data')\n",
    "texts = text_helpers.normalize_text(texts, stops)\n",
    "\n",
    "# テキストには少なくとも3つの単語が含まれていなければならない\n",
    "target = [target[ix] for ix, x in enumerate(texts) if len(x.split()) > 2]\n",
    "texts = [x for x in texts if len(x.split()) > 2]\n",
    "print('Done.')"
   ]
  },
  {
   "cell_type": "code",
   "execution_count": 9,
   "metadata": {},
   "outputs": [
    {
     "name": "stdout",
     "output_type": "stream",
     "text": [
      "Creating Dictionary\n"
     ]
    }
   ],
   "source": [
    "# データセットとディクショナリを構築\n",
    "print('Creating Dictionary')\n",
    "word_dictionary = text_helpers.build_dictionary(texts, vocabulary_size)\n",
    "word_dictionary_rev = dict(zip(word_dictionary.values(), word_dictionary.keys()))\n",
    "text_data = text_helpers.text_to_numbers(texts, word_dictionary)\n",
    "\n",
    "# テキストワードのキーを取得\n",
    "valid_examples = [word_dictionary[x] for x in valid_words]"
   ]
  },
  {
   "cell_type": "code",
   "execution_count": 10,
   "metadata": {},
   "outputs": [
    {
     "name": "stdout",
     "output_type": "stream",
     "text": [
      "Creating Model\n"
     ]
    }
   ],
   "source": [
    "print('Creating Model')\n",
    "# Define Embeddings:\n",
    "embeddings = tf.Variable(tf.random_uniform([vocabulary_size, embedding_size], -1.0, 1.0))\n",
    "# Create data/target placeholders\n",
    "x_inputs = tf.placeholder(tf.int32, shape=[batch_size, 2*window_size])\n",
    "y_target = tf.placeholder(tf.int32, shape=[batch_size, 1])\n",
    "valid_dataset = tf.constant(valid_examples, dtype=tf.int32)"
   ]
  },
  {
   "cell_type": "code",
   "execution_count": 11,
   "metadata": {
    "collapsed": true
   },
   "outputs": [],
   "source": [
    "# Lookup the word embedding\n",
    "# Add together window embeddings:\n",
    "embed = tf.zeros([batch_size, embedding_size])\n",
    "for element in range(2*window_size):\n",
    "    embed += tf.nn.embedding_lookup(embeddings, x_inputs[:, element])"
   ]
  },
  {
   "cell_type": "code",
   "execution_count": 12,
   "metadata": {
    "collapsed": true
   },
   "outputs": [],
   "source": [
    "# NCE loss parameters\n",
    "nce_weights = tf.Variable(tf.truncated_normal([vocabulary_size, embedding_size],\n",
    "                                               stddev=1.0 / np.sqrt(embedding_size)))\n",
    "nce_biases = tf.Variable(tf.zeros([vocabulary_size]))\n",
    "\n",
    "# Get loss from prediction\n",
    "loss = tf.reduce_mean(tf.nn.nce_loss(weights=nce_weights,\n",
    "                                     biases=nce_biases,\n",
    "                                     labels=y_target,\n",
    "                                     inputs=embed,\n",
    "                                     num_sampled=num_sampled,\n",
    "                                     num_classes=vocabulary_size))"
   ]
  },
  {
   "cell_type": "code",
   "execution_count": 13,
   "metadata": {
    "collapsed": true
   },
   "outputs": [],
   "source": [
    "# Cosine similarity between words\n",
    "norm = tf.sqrt(tf.reduce_sum(tf.square(embeddings), 1, keep_dims=True))\n",
    "normalized_embeddings = embeddings / norm\n",
    "valid_embeddings = tf.nn.embedding_lookup(normalized_embeddings, valid_dataset)\n",
    "similarity = tf.matmul(valid_embeddings, normalized_embeddings, transpose_b=True)"
   ]
  },
  {
   "cell_type": "code",
   "execution_count": 14,
   "metadata": {
    "collapsed": true
   },
   "outputs": [],
   "source": [
    "# Create model saving operation\n",
    "saver = tf.train.Saver({\"embeddings\": embeddings})"
   ]
  },
  {
   "cell_type": "code",
   "execution_count": 15,
   "metadata": {
    "collapsed": true
   },
   "outputs": [],
   "source": [
    "# Create optimizer\n",
    "optimizer = tf.train.GradientDescentOptimizer(learning_rate=model_learning_rate).minimize(loss)\n",
    "\n",
    "#Add variable initializer.\n",
    "init = tf.global_variables_initializer()\n",
    "sess.run(init)"
   ]
  },
  {
   "cell_type": "code",
   "execution_count": 16,
   "metadata": {
    "collapsed": true
   },
   "outputs": [],
   "source": [
    "# Filter out sentences that aren't long enough:\n",
    "text_data = [x for x in text_data if len(x)>=(2*window_size+1)]"
   ]
  },
  {
   "cell_type": "code",
   "execution_count": 17,
   "metadata": {},
   "outputs": [
    {
     "name": "stdout",
     "output_type": "stream",
     "text": [
      "Starting Training\n",
      "Loss at step 1000 : 9.593059539794922\n",
      "Loss at step 2000 : 6.443571090698242\n",
      "Loss at step 3000 : 5.720491409301758\n",
      "Loss at step 4000 : 5.325740814208984\n",
      "Loss at step 5000 : 5.32508659362793\n",
      "Nearest to love: truly, human, must, turns, us,\n",
      "Nearest to hate: long, silly, firsttime, bland, country,\n",
      "Nearest to happy: starring, generation, breathtaking, window, bother,\n",
      "Nearest to sad: smart, noir, life, virtually, moviegoers,\n",
      "Nearest to man: whole, comedy, womans, entire, fun,\n",
      "Nearest to woman: want, flicks, spark, stock, addition,\n",
      "Model saved in file: /notebooks/temp/cbow_movie_embeddings.ckpt\n",
      "Loss at step 6000 : 5.0205278396606445\n",
      "Loss at step 7000 : 4.658677577972412\n",
      "Loss at step 8000 : 4.822328090667725\n",
      "Loss at step 9000 : 5.068964004516602\n",
      "Loss at step 10000 : 4.665541172027588\n",
      "Nearest to love: truly, must, turns, human, version,\n",
      "Nearest to hate: long, silly, firsttime, bland, country,\n",
      "Nearest to happy: starring, generation, bother, breathtaking, paid,\n",
      "Nearest to sad: smart, life, noir, virtually, moviegoers,\n",
      "Nearest to man: whole, fun, entire, within, womans,\n",
      "Nearest to woman: want, flicks, spark, stock, uncompromising,\n",
      "Model saved in file: /notebooks/temp/cbow_movie_embeddings.ckpt\n",
      "Loss at step 11000 : 4.536984920501709\n",
      "Loss at step 12000 : 4.380317211151123\n",
      "Loss at step 13000 : 4.35380744934082\n",
      "Loss at step 14000 : 4.431206226348877\n",
      "Loss at step 15000 : 4.5797834396362305\n",
      "Nearest to love: truly, turns, must, version, human,\n",
      "Nearest to hate: long, silly, firsttime, bland, country,\n",
      "Nearest to happy: starring, generation, bother, paid, got,\n",
      "Nearest to sad: smart, noir, life, virtually, lovely,\n",
      "Nearest to man: whole, within, entire, fun, womans,\n",
      "Nearest to woman: want, flicks, spark, stock, uncompromising,\n",
      "Model saved in file: /notebooks/temp/cbow_movie_embeddings.ckpt\n",
      "Loss at step 16000 : 4.621265411376953\n",
      "Loss at step 17000 : 4.130514144897461\n",
      "Loss at step 18000 : 4.566973686218262\n",
      "Loss at step 19000 : 4.361735820770264\n",
      "Loss at step 20000 : 4.240629196166992\n",
      "Nearest to love: truly, turns, must, version, certain,\n",
      "Nearest to hate: silly, long, firsttime, country, bland,\n",
      "Nearest to happy: starring, generation, bother, paid, got,\n",
      "Nearest to sad: smart, noir, life, virtually, park,\n",
      "Nearest to man: whole, within, emotion, entire, suspense,\n",
      "Nearest to woman: want, flicks, spark, stock, uncompromising,\n",
      "Model saved in file: /notebooks/temp/cbow_movie_embeddings.ckpt\n",
      "Loss at step 21000 : 4.384636878967285\n",
      "Loss at step 22000 : 4.145163059234619\n",
      "Loss at step 23000 : 4.298215866088867\n",
      "Loss at step 24000 : 4.533953666687012\n",
      "Loss at step 25000 : 4.176699638366699\n",
      "Nearest to love: truly, turns, must, version, certain,\n",
      "Nearest to hate: silly, long, firsttime, country, bland,\n",
      "Nearest to happy: starring, generation, bother, heartwarming, psychological,\n",
      "Nearest to sad: smart, noir, life, virtually, park,\n",
      "Nearest to man: whole, within, emotion, roger, entire,\n",
      "Nearest to woman: want, flicks, spark, stock, uncompromising,\n",
      "Model saved in file: /notebooks/temp/cbow_movie_embeddings.ckpt\n",
      "Loss at step 26000 : 4.0656328201293945\n",
      "Loss at step 27000 : 3.961068630218506\n",
      "Loss at step 28000 : 4.229793071746826\n",
      "Loss at step 29000 : 4.103376865386963\n",
      "Loss at step 30000 : 4.138056755065918\n",
      "Nearest to love: truly, turns, version, must, roger,\n",
      "Nearest to hate: silly, long, firsttime, country, bland,\n",
      "Nearest to happy: starring, generation, bother, psychological, heartwarming,\n",
      "Nearest to sad: smart, noir, life, virtually, park,\n",
      "Nearest to man: within, whole, emotion, roger, entire,\n",
      "Nearest to woman: want, flicks, spark, stock, uncompromising,\n",
      "Model saved in file: /notebooks/temp/cbow_movie_embeddings.ckpt\n",
      "Loss at step 31000 : 4.119683742523193\n",
      "Loss at step 32000 : 4.102844715118408\n",
      "Loss at step 33000 : 4.096490859985352\n",
      "Loss at step 34000 : 4.108322620391846\n",
      "Loss at step 35000 : 3.9821953773498535\n",
      "Nearest to love: truly, version, turns, must, roger,\n",
      "Nearest to hate: silly, long, firsttime, country, bland,\n",
      "Nearest to happy: starring, generation, bother, psychological, examination,\n",
      "Nearest to sad: smart, noir, virtually, life, park,\n",
      "Nearest to man: within, whole, emotion, roger, entire,\n",
      "Nearest to woman: want, flicks, spark, stock, involving,\n",
      "Model saved in file: /notebooks/temp/cbow_movie_embeddings.ckpt\n",
      "Loss at step 36000 : 3.715451240539551\n",
      "Loss at step 37000 : 3.994191884994507\n",
      "Loss at step 38000 : 3.8482935428619385\n",
      "Loss at step 39000 : 3.9241902828216553\n",
      "Loss at step 40000 : 3.842155694961548\n",
      "Nearest to love: truly, version, must, turns, roger,\n",
      "Nearest to hate: silly, long, firsttime, country, bland,\n",
      "Nearest to happy: starring, generation, bother, psychological, secret,\n",
      "Nearest to sad: smart, noir, virtually, life, park,\n",
      "Nearest to man: within, whole, emotion, roger, ordinary,\n",
      "Nearest to woman: want, flicks, spark, stock, involving,\n",
      "Model saved in file: /notebooks/temp/cbow_movie_embeddings.ckpt\n",
      "Loss at step 41000 : 3.6093218326568604\n",
      "Loss at step 42000 : 3.92222261428833\n",
      "Loss at step 43000 : 3.9493408203125\n",
      "Loss at step 44000 : 3.8547348976135254\n",
      "Loss at step 45000 : 3.907722234725952\n",
      "Nearest to love: truly, version, must, turns, animation,\n",
      "Nearest to hate: silly, long, firsttime, country, bland,\n",
      "Nearest to happy: starring, generation, bother, psychological, secret,\n",
      "Nearest to sad: smart, noir, virtually, park, life,\n",
      "Nearest to man: within, whole, roger, emotion, ordinary,\n",
      "Nearest to woman: want, flicks, spark, stock, involving,\n",
      "Model saved in file: /notebooks/temp/cbow_movie_embeddings.ckpt\n",
      "Loss at step 46000 : 3.7644662857055664\n",
      "Loss at step 47000 : 3.901139736175537\n",
      "Loss at step 48000 : 3.7244439125061035\n",
      "Loss at step 49000 : 3.6260673999786377\n",
      "Loss at step 50000 : 3.6108157634735107\n",
      "Nearest to love: truly, must, version, animation, turns,\n",
      "Nearest to hate: silly, long, country, firsttime, bland,\n",
      "Nearest to happy: starring, generation, bother, psychological, secret,\n",
      "Nearest to sad: smart, noir, virtually, park, life,\n",
      "Nearest to man: within, whole, roger, emotion, ordinary,\n",
      "Nearest to woman: want, flicks, spark, stock, news,\n",
      "Model saved in file: /notebooks/temp/cbow_movie_embeddings.ckpt\n"
     ]
    }
   ],
   "source": [
    "# Run the CBOW model.\n",
    "print('Starting Training')\n",
    "loss_vec = []\n",
    "loss_x_vec = []\n",
    "for i in range(generations):\n",
    "    batch_inputs, batch_labels = text_helpers.generate_batch_data(text_data, batch_size,\n",
    "                                                                  window_size, method='cbow')\n",
    "    feed_dict = {x_inputs : batch_inputs, y_target : batch_labels}\n",
    "\n",
    "    # Run the train step\n",
    "    sess.run(optimizer, feed_dict=feed_dict)\n",
    "\n",
    "    # Return the loss\n",
    "    if (i+1) % print_loss_every == 0:\n",
    "        loss_val = sess.run(loss, feed_dict=feed_dict)\n",
    "        loss_vec.append(loss_val)\n",
    "        loss_x_vec.append(i+1)\n",
    "        print('Loss at step {} : {}'.format(i+1, loss_val))\n",
    "      \n",
    "    # Validation: Print some random words and top 5 related words\n",
    "    if (i+1) % print_valid_every == 0:\n",
    "        sim = sess.run(similarity, feed_dict=feed_dict)\n",
    "        for j in range(len(valid_words)):\n",
    "            valid_word = word_dictionary_rev[valid_examples[j]]\n",
    "            top_k = 5 # number of nearest neighbors\n",
    "            nearest = (-sim[j, :]).argsort()[1:top_k+1]\n",
    "            log_str = \"Nearest to {}:\".format(valid_word)\n",
    "            for k in range(top_k):\n",
    "                close_word = word_dictionary_rev[nearest[k]]\n",
    "                log_str = '{} {},' .format(log_str, close_word)\n",
    "            print(log_str)\n",
    "            \n",
    "    # Save dictionary + embeddings\n",
    "    if (i+1) % save_embeddings_every == 0:\n",
    "        # Save vocabulary dictionary\n",
    "        with open(os.path.join(data_folder_name,'movie_vocab.pkl'), 'wb') as f:\n",
    "            pickle.dump(word_dictionary, f)\n",
    "        \n",
    "        # Save embeddings\n",
    "        model_checkpoint_path = os.path.join(os.getcwd(),data_folder_name,'cbow_movie_embeddings.ckpt')\n",
    "        save_path = saver.save(sess, model_checkpoint_path)\n",
    "        print('Model saved in file: {}'.format(save_path))"
   ]
  },
  {
   "cell_type": "code",
   "execution_count": 18,
   "metadata": {},
   "outputs": [
    {
     "data": {
      "image/png": "[encoded data removed]",
      "text/plain": [
       "<matplotlib.figure.Figure at 0x7f5bdad9b6a0>"
      ]
     },
     "metadata": {},
     "output_type": "display_data"
    }
   ],
   "source": [
    "# Plot loss over time\n",
    "plt.plot(loss_x_vec, loss_vec, 'k-')\n",
    "plt.title('Training Loss per Generation')\n",
    "plt.xlabel('Generation')\n",
    "plt.ylabel('Loss')\n",
    "plt.show()"
   ]
  },
  {
   "cell_type": "code",
   "execution_count": null,
   "metadata": {
    "collapsed": true
   },
   "outputs": [],
   "source": []
  }
 ],
 "metadata": {
  "kernelspec": {
   "display_name": "Python 3",
   "language": "python",
   "name": "python3"
  },
  "language_info": {
   "codemirror_mode": {
    "name": "ipython",
    "version": 3
   },
   "file_extension": ".py",
   "mimetype": "text/x-python",
   "name": "python",
   "nbconvert_exporter": "python",
   "pygments_lexer": "ipython3",
   "version": "3.6.2"
  }
 },
 "nbformat": 4,
 "nbformat_minor": 2
}
