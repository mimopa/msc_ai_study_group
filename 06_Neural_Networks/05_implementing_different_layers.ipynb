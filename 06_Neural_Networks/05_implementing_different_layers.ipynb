{
 "cells": [
  {
   "cell_type": "code",
   "execution_count": 2,
   "metadata": {
    "collapsed": true
   },
   "outputs": [],
   "source": [
    "import tensorflow as tf\n",
    "import numpy as np\n",
    "\n",
    "sess = tf.Session()"
   ]
  },
  {
   "cell_type": "code",
   "execution_count": 3,
   "metadata": {
    "collapsed": true
   },
   "outputs": [],
   "source": [
    "data_size = 25\n",
    "# 1次元のデータを生成\n",
    "data_1d = np.random.normal(size=data_size)\n",
    "# プレースホルダを作成\n",
    "x_input_1d = tf.placeholder(dtype=tf.float32, shape=[data_size])"
   ]
  },
  {
   "cell_type": "code",
   "execution_count": 4,
   "metadata": {
    "collapsed": true
   },
   "outputs": [],
   "source": [
    "def conv_layer_1d(input_1d, my_filter):\n",
    "    # 1次元の入力を4次元にする\n",
    "    input_2d = tf.expand_dims(input_1d, 0)\n",
    "    input_3d = tf.expand_dims(input_2d, 0)\n",
    "    input_4d = tf.expand_dims(input_3d, 3)\n",
    "    # ストライド1で畳み込みを実行\n",
    "    convolution_output = tf.nn.conv2d(input_4d, filter=my_filter, strides=[1,1,1,1], padding=\"VALID\")\n",
    "    # 余分な次元を削除\n",
    "    conv_output_1d = tf.squeeze(convolution_output)\n",
    "    return(conv_output_1d)"
   ]
  },
  {
   "cell_type": "code",
   "execution_count": 5,
   "metadata": {
    "collapsed": true
   },
   "outputs": [],
   "source": [
    "my_filter = tf.Variable(tf.random_normal(shape=[1,5,1,1]))\n",
    "my_convolution_output = conv_layer_1d(x_input_1d, my_filter)"
   ]
  },
  {
   "cell_type": "code",
   "execution_count": 9,
   "metadata": {
    "collapsed": true
   },
   "outputs": [],
   "source": [
    "def  activation(input_1d):\n",
    "    return(tf.nn.relu(input_1d))\n",
    "\n",
    "# 活性化層を作成\n",
    "my_activation_output = activation(my_convolution_output)"
   ]
  },
  {
   "cell_type": "code",
   "execution_count": 11,
   "metadata": {},
   "outputs": [],
   "source": [
    "def max_pool(input_1d, width):\n",
    "    # 1次元の入力を4次元にする\n",
    "    input_2d = tf.expand_dims(input_1d, 0)\n",
    "    input_3d = tf.expand_dims(input_2d, 0)\n",
    "    input_4d = tf.expand_dims(input_3d, 3)\n",
    "    # ストライド1でマックスプーリンを実行\n",
    "    pool_output = tf.nn.max_pool(input_4d, ksize=[1, 1, width, 1], strides=[1, 1, 1, 1], padding=\"VALID\")\n",
    "    # 余分な次元を削除\n",
    "    pool_output_1d = tf.squeeze(pool_output)\n",
    "    return(pool_output_1d)\n",
    "\n",
    "# マックスプーリング層を作成\n",
    "my_maxpool_output = max_pool(my_activation_output, width=5)"
   ]
  },
  {
   "cell_type": "code",
   "execution_count": 12,
   "metadata": {
    "collapsed": true
   },
   "outputs": [],
   "source": [
    "def fully_connected(input_layer, num_outputs):\n",
    "    # 重みを作成\n",
    "    weight_shape = tf.squeeze(tf.stack([tf.shape(input_layer), [num_outputs]]))\n",
    "    # 重みを初期化\n",
    "    weight = tf.random_normal(weight_shape, stddev=0.1)\n",
    "    # バイアスを初期化\n",
    "    bias = tf.random_normal(shape=[num_outputs])\n",
    "    # 入力を2次元配列にする\n",
    "    input_layer_2d = tf.expand_dims(input_layer, 0)\n",
    "    # 全結合演算（行列の乗算とバイアスの追加）を実行\n",
    "    full_output = tf.add(tf.matmul(input_layer_2d, weight), bias)\n",
    "    # 余分な次元を削除\n",
    "    full_output_1d = tf.squeeze(full_output)\n",
    "    return(full_output_1d)\n",
    "\n",
    "# 全結合層を作成\n",
    "my_full_output  = fully_connected(my_maxpool_output, 5)"
   ]
  },
  {
   "cell_type": "code",
   "execution_count": 13,
   "metadata": {
    "collapsed": true
   },
   "outputs": [],
   "source": [
    "init = tf.global_variables_initializer()\n",
    "sess.run(init)\n",
    "\n",
    "feed_dict = {x_input_1d: data_1d}"
   ]
  },
  {
   "cell_type": "code",
   "execution_count": 14,
   "metadata": {},
   "outputs": [
    {
     "name": "stdout",
     "output_type": "stream",
     "text": [
      "Input = array of length 25\n",
      "Convolution w/filter, length = 5, stride size = 1, results in an array of length 21:\n",
      "[-1.05097878 -0.30860162  0.09815298 -0.35026589 -0.84521806  1.70141625\n",
      " -0.29660401  2.65369606  0.77026397  0.13656747  1.08798301 -2.41421509\n",
      "  1.12136614 -2.98701859  1.14287055 -0.67281902  1.08716643 -1.01938283\n",
      "  0.70333934 -2.74435186 -0.65808177]\n",
      "¥nInput = the above array of length 21\n",
      "ReLU element wise returns the array of length 21:\n",
      "[ 0.          0.          0.09815298  0.          0.          1.70141625\n",
      "  0.          2.65369606  0.77026397  0.13656747  1.08798301  0.\n",
      "  1.12136614  0.          1.14287055  0.          1.08716643  0.\n",
      "  0.70333934  0.          0.        ]\n",
      "¥nInput = the above array of length 21\n",
      "MaxPool, window length = 5, stride size = 1, results in the array of length 17\n",
      "[ 0.09815298  1.70141625  1.70141625  2.65369606  2.65369606  2.65369606\n",
      "  2.65369606  2.65369606  1.12136614  1.12136614  1.14287055  1.14287055\n",
      "  1.14287055  1.14287055  1.14287055  1.08716643  1.08716643]\n",
      "¥nInput = the above array of length 17\n",
      "Fully connnected layer on all four rows with five outputs:\n",
      "[-0.3039794  -1.92077994  0.90005326 -1.34575462 -0.7554847 ]\n"
     ]
    }
   ],
   "source": [
    "# 畳み込み層の出力\n",
    "print('Input = array of length 25')\n",
    "print('Convolution w/filter, length = 5, stride size = 1, results in an array of length 21:')\n",
    "print(sess.run(my_convolution_output, feed_dict=feed_dict))\n",
    "\n",
    "# 活性化層の出力\n",
    "print('¥nInput = the above array of length 21')\n",
    "print('ReLU element wise returns the array of length 21:')\n",
    "print(sess.run(my_activation_output, feed_dict=feed_dict))\n",
    "\n",
    "# マックスプーリング層の出力\n",
    "print('¥nInput = the above array of length 21')\n",
    "print('MaxPool, window length = 5, stride size = 1, results in the array of length 17')\n",
    "print(sess.run(my_maxpool_output, feed_dict=feed_dict))\n",
    "\n",
    "# 全結合層への出力\n",
    "print('¥nInput = the above array of length 17')\n",
    "print('Fully connnected layer on all four rows with five outputs:')\n",
    "print(sess.run(my_full_output, feed_dict=feed_dict))"
   ]
  },
  {
   "cell_type": "code",
   "execution_count": 16,
   "metadata": {},
   "outputs": [],
   "source": [
    "from tensorflow.python.framework import ops\n",
    "ops.reset_default_graph()\n",
    "sess = tf.Session()"
   ]
  },
  {
   "cell_type": "code",
   "execution_count": 17,
   "metadata": {
    "collapsed": true
   },
   "outputs": [],
   "source": [
    "data_size = [10,10]\n",
    "# 2次元のデータを生成\n",
    "data_2d = np.random.normal(size=data_size)\n",
    "# プレースホルダを作成\n",
    "x_input_2d = tf.placeholder(dtype=tf.float32, shape=data_size)"
   ]
  },
  {
   "cell_type": "code",
   "execution_count": 18,
   "metadata": {
    "collapsed": true
   },
   "outputs": [],
   "source": [
    "def conv_layer_2d(input_2d, my_filter):\n",
    "    # 2次元の入力を4次元にする\n",
    "    input_3d = tf.expand_dims(input_2d, 0)\n",
    "    input_4d = tf.expand_dims(input_3d, 3)\n",
    "    # 畳み込みを実行（ストライドの違いに注意）\n",
    "    convolution_output = tf.nn.conv2d(input_4d, filter=my_filter, strides=[1,2,2,1], padding=\"VALID\")\n",
    "    # 余分な次元を削除\n",
    "    conv_output_2d = tf.squeeze(convolution_output)\n",
    "    return(conv_output_2d)\n",
    "\n",
    "# 畳み込みフィルタを作成\n",
    "my_filter = tf.Variable(tf.random_normal(shape=[2,2,1,1]))\n",
    "# 畳み込み層を作成\n",
    "my_convolution_output = conv_layer_2d(x_input_2d, my_filter)"
   ]
  },
  {
   "cell_type": "code",
   "execution_count": 19,
   "metadata": {
    "collapsed": true
   },
   "outputs": [],
   "source": [
    "def activation(input_2d):\n",
    "    return(tf.nn.relu(input_2d))\n",
    "\n",
    "# 活性化層を作成\n",
    "my_activation_output = activation(my_convolution_output)"
   ]
  },
  {
   "cell_type": "code",
   "execution_count": 21,
   "metadata": {},
   "outputs": [],
   "source": [
    "def max_pool(input_2d, width, height):\n",
    "    # 2次元の入力を4次元にする\n",
    "    input_3d = tf.expand_dims(input_2d, 0)\n",
    "    input_4d = tf.expand_dims(input_3d, 3)\n",
    "    # マックスプーリングを実行\n",
    "    pool_output = tf.nn.max_pool(input_4d, ksize=[1, height, width, 1], strides=[1, 1, 1, 1], padding='VALID')\n",
    "    # 余分な次元を削除\n",
    "    pool_output_2d = tf.squeeze(pool_output)\n",
    "    return(pool_output_2d)\n",
    "\n",
    "# マックスプーリング層を作成\n",
    "my_maxpool_output = max_pool(my_activation_output, width=2, height=2)"
   ]
  },
  {
   "cell_type": "code",
   "execution_count": 26,
   "metadata": {},
   "outputs": [],
   "source": [
    "def fully_connected(input_layer, num_outputs):\n",
    "    # 1次元にする\n",
    "    flat_input = tf.reshape(input_layer, [-1])\n",
    "    # 重みを作成\n",
    "    weight_shape = tf.squeeze(tf.stack([tf.shape(flat_input), [num_outputs]]))\n",
    "    # 重みを初期化\n",
    "    weight = tf.random_normal(weight_shape, stddev=0.1)\n",
    "    # バイアスを初期化\n",
    "    bias = tf.random_normal(shape=[num_outputs])\n",
    "    # 2次元にする\n",
    "    input_2d = tf.expand_dims(flat_input, 0)\n",
    "    # 全結合演算を実行\n",
    "    full_output = tf.add(tf.matmul(input_2d, weight), bias)\n",
    "    # 余分な次元を削除\n",
    "    full_output_2d = tf.squeeze(full_output)\n",
    "    return(full_output_2d)\n",
    "\n",
    "#全結合層を作成\n",
    "my_full_output = fully_connected(my_maxpool_output, 5)"
   ]
  },
  {
   "cell_type": "code",
   "execution_count": 27,
   "metadata": {
    "collapsed": true
   },
   "outputs": [],
   "source": [
    "init = tf.global_variables_initializer()\n",
    "sess.run(init)\n",
    "\n",
    "feed_dict = {x_input_2d: data_2d}"
   ]
  },
  {
   "cell_type": "code",
   "execution_count": 28,
   "metadata": {},
   "outputs": [
    {
     "name": "stdout",
     "output_type": "stream",
     "text": [
      "Input = [10,10] array\n",
      "[2, 2] Convolution, stride size = [2, 2], results in the [5, 5] array\n",
      "[[ 2.66505671  2.94650412 -1.06595957 -0.53130883 -1.55073035]\n",
      " [ 1.76208854 -0.11624587  0.48761457 -0.08125717 -0.05775905]\n",
      " [-2.07696009  0.95554638 -0.13551201  0.44764209 -0.08830321]\n",
      " [ 0.57219076  1.04545355  1.43570781 -0.48084152  1.78725421]\n",
      " [-0.24305016  1.8197875  -0.80240077 -0.38667798  0.35234463]]\n",
      "¥nInput = the above [5, 5] array\n",
      "ReLU element wise returns the [5, 5] array\n",
      "[[ 2.66505671  2.94650412  0.          0.          0.        ]\n",
      " [ 1.76208854  0.          0.48761457  0.          0.        ]\n",
      " [ 0.          0.95554638  0.          0.44764209  0.        ]\n",
      " [ 0.57219076  1.04545355  1.43570781  0.          1.78725421]\n",
      " [ 0.          1.8197875   0.          0.          0.35234463]]\n",
      "¥nInput = the above [5, 5] array\n",
      "MaxPool, stride size = [1, 1], results in the [4, 4] array\n",
      "[[ 2.94650412  2.94650412  0.48761457  0.        ]\n",
      " [ 1.76208854  0.95554638  0.48761457  0.44764209]\n",
      " [ 1.04545355  1.43570781  1.43570781  1.78725421]\n",
      " [ 1.8197875   1.8197875   1.43570781  1.78725421]]\n",
      "¥nInput = the above [4, 4] array\n",
      "Fully connected layer on all 4 rows results in 5 outputs:\n",
      "[-0.18444601  0.81321925 -0.14608191 -0.90578061  0.38752931]\n"
     ]
    }
   ],
   "source": [
    "# 畳み込み層の出力\n",
    "print('Input = [10,10] array')\n",
    "print('[2, 2] Convolution, stride size = [2, 2], results in the [5, 5] array')\n",
    "print(sess.run(my_convolution_output, feed_dict=feed_dict))\n",
    "# 活性化層の出力\n",
    "print('¥nInput = the above [5, 5] array')\n",
    "print('ReLU element wise returns the [5, 5] array')\n",
    "print(sess.run(my_activation_output, feed_dict=feed_dict))\n",
    "#マックスプーリング層の出力\n",
    "print('¥nInput = the above [5, 5] array')\n",
    "print('MaxPool, stride size = [1, 1], results in the [4, 4] array')\n",
    "print(sess.run(my_maxpool_output, feed_dict=feed_dict))\n",
    "# 全結合層の出力\n",
    "print('¥nInput = the above [4, 4] array')\n",
    "print('Fully connected layer on all 4 rows results in 5 outputs:')\n",
    "print(sess.run(my_full_output, feed_dict=feed_dict))"
   ]
  }
 ],
 "metadata": {
  "kernelspec": {
   "display_name": "Python 3",
   "language": "python",
   "name": "python3"
  },
  "language_info": {
   "codemirror_mode": {
    "name": "ipython",
    "version": 3
   },
   "file_extension": ".py",
   "mimetype": "text/x-python",
   "name": "python",
   "nbconvert_exporter": "python",
   "pygments_lexer": "ipython3",
   "version": "3.6.2"
  }
 },
 "nbformat": 4,
 "nbformat_minor": 1
}
