{
 "cells": [
  {
   "cell_type": "code",
   "execution_count": 6,
   "metadata": {
    "collapsed": true
   },
   "outputs": [],
   "source": [
    "import tensorflow as tf\n",
    "\n",
    "sess = tf.Session()"
   ]
  },
  {
   "cell_type": "code",
   "execution_count": 7,
   "metadata": {
    "collapsed": true
   },
   "outputs": [],
   "source": [
    "a = tf.Variable(tf.constant(4.))\n",
    "x_val = 5.\n",
    "x_data = tf.placeholder(dtype=tf.float32)"
   ]
  },
  {
   "cell_type": "code",
   "execution_count": 8,
   "metadata": {
    "collapsed": true
   },
   "outputs": [],
   "source": [
    "multiplication = tf.multiply(a, x_data)"
   ]
  },
  {
   "cell_type": "code",
   "execution_count": 9,
   "metadata": {
    "collapsed": true
   },
   "outputs": [],
   "source": [
    "loss = tf.square(tf.subtract(multiplication, 50.))"
   ]
  },
  {
   "cell_type": "code",
   "execution_count": 11,
   "metadata": {
    "collapsed": true
   },
   "outputs": [],
   "source": [
    "init = tf.global_variables_initializer()\n",
    "sess.run(init)\n",
    "\n",
    "my_opt = tf.train.GradientDescentOptimizer(0.01)\n",
    "train_step = my_opt.minimize(loss)"
   ]
  },
  {
   "cell_type": "code",
   "execution_count": 12,
   "metadata": {},
   "outputs": [
    {
     "name": "stdout",
     "output_type": "stream",
     "text": [
      "Optimizing a Multiplication Gate Output to 50.\n",
      "7.0 * 5.0 = 35.0\n",
      "8.5 * 5.0 = 42.5\n",
      "9.25 * 5.0 = 46.25\n",
      "9.625 * 5.0 = 48.125\n",
      "9.8125 * 5.0 = 49.0625\n",
      "9.90625 * 5.0 = 49.5312\n",
      "9.95312 * 5.0 = 49.7656\n",
      "9.97656 * 5.0 = 49.8828\n",
      "9.98828 * 5.0 = 49.9414\n",
      "9.99414 * 5.0 = 49.9707\n"
     ]
    }
   ],
   "source": [
    "print('Optimizing a Multiplication Gate Output to 50.')\n",
    "for i in range(10):\n",
    "    # トレーニングステップを実行\n",
    "    sess.run(train_step, feed_dict={x_data: x_val})\n",
    "    # aの値を取得\n",
    "    a_val = sess.run(a)\n",
    "    # 論理ゲートの出力を計算\n",
    "    mult_output = sess.run(multiplication, feed_dict={x_data: x_val})\n",
    "    print(str(a_val) + ' * ' + str(x_val) + ' = ' + str(mult_output))"
   ]
  },
  {
   "cell_type": "code",
   "execution_count": 15,
   "metadata": {
    "collapsed": true
   },
   "outputs": [],
   "source": [
    "from tensorflow.python.framework import ops\n",
    "ops.reset_default_graph()\n",
    "\n",
    "sess = tf.Session()\n",
    "\n",
    "a = tf.Variable(tf.constant(1.))\n",
    "b = tf.Variable(tf.constant(1.))\n",
    "x_val = 5.\n",
    "x_data = tf.placeholder(dtype=tf.float32)\n",
    "\n",
    "# 入れ子の論理ゲートを追加\n",
    "two_gate = tf.add(tf.multiply(a, x_data), b)\n",
    "\n",
    "# 損失関数として出力と目的値 50 の間の距離を実装\n",
    "loss = tf.square(tf.subtract(two_gate, 50.))\n",
    "\n",
    "init = tf.global_variables_initializer()\n",
    "sess.run(init)\n",
    "\n",
    "my_opt = tf.train.GradientDescentOptimizer(0.01)\n",
    "train_step = my_opt.minimize(loss)"
   ]
  },
  {
   "cell_type": "code",
   "execution_count": 16,
   "metadata": {},
   "outputs": [
    {
     "name": "stdout",
     "output_type": "stream",
     "text": [
      "\n",
      "Optimizing Two Gate Output to 50.\n",
      "5.4 * 5.0 + 1.88 = 28.88\n",
      "7.512 * 5.0 + 2.3024 = 39.8624\n",
      "8.52576 * 5.0 + 2.50515 = 45.134\n",
      "9.01236 * 5.0 + 2.60247 = 47.6643\n",
      "9.24593 * 5.0 + 2.64919 = 48.8789\n",
      "9.35805 * 5.0 + 2.67161 = 49.4619\n",
      "9.41186 * 5.0 + 2.68237 = 49.7417\n",
      "9.43769 * 5.0 + 2.68754 = 49.876\n",
      "9.45009 * 5.0 + 2.69002 = 49.9405\n",
      "9.45605 * 5.0 + 2.69121 = 49.9714\n"
     ]
    }
   ],
   "source": [
    "print('\\nOptimizing Two Gate Output to 50.')\n",
    "for i in range(10):\n",
    "    sess.run(train_step, feed_dict={x_data: x_val})\n",
    "    a_val, b_val = (sess.run(a), sess.run(b))\n",
    "    # 入れ子の論理ゲートの出力を計算\n",
    "    two_gate_output = sess.run(two_gate, feed_dict={x_data: x_val})\n",
    "    print(str(a_val) + ' * ' + str(x_val) + ' + ' + str(b_val) + ' = ' + str(two_gate_output))"
   ]
  },
  {
   "cell_type": "code",
   "execution_count": 32,
   "metadata": {
    "collapsed": true
   },
   "outputs": [],
   "source": [
    "import tensorflow as tf\n",
    "import numpy as np\n",
    "import matplotlib.pyplot as plt\n",
    "\n",
    "sess = tf.Session()\n",
    "\n",
    "# 乱数シードを設定\n",
    "tf.set_random_seed(5)\n",
    "np.random.seed(42)"
   ]
  },
  {
   "cell_type": "code",
   "execution_count": 33,
   "metadata": {
    "collapsed": true
   },
   "outputs": [],
   "source": [
    "batch_size = 50\n",
    "\n",
    "a1 = tf.Variable(tf.random_normal(shape=[1,1]))\n",
    "b1 = tf.Variable(tf.random_uniform(shape=[1,1]))\n",
    "a2 = tf.Variable(tf.random_normal(shape=[1,1]))\n",
    "b2 = tf.Variable(tf.random_uniform(shape=[1,1]))\n",
    "x = np.random.normal(2, 0.1, 500)\n",
    "x_data = tf.placeholder(shape=[None, 1], dtype=tf.float32)"
   ]
  },
  {
   "cell_type": "code",
   "execution_count": 34,
   "metadata": {
    "collapsed": true
   },
   "outputs": [],
   "source": [
    "sigmoid_activation = tf.sigmoid(tf.add(tf.matmul(x_data, a1), b1))\n",
    "\n",
    "relu_activation = tf.nn.relu(tf.add(tf.matmul(x_data, a2), b2))"
   ]
  },
  {
   "cell_type": "code",
   "execution_count": 35,
   "metadata": {
    "collapsed": true
   },
   "outputs": [],
   "source": [
    "loss1 = tf.reduce_mean(tf.square(tf.subtract(sigmoid_activation, 0.75)))\n",
    "loss2 = tf.reduce_mean(tf.square(tf.subtract(relu_activation, 0.75)))"
   ]
  },
  {
   "cell_type": "code",
   "execution_count": 36,
   "metadata": {
    "collapsed": true
   },
   "outputs": [],
   "source": [
    "my_opt = tf.train.GradientDescentOptimizer(0.01)\n",
    "train_step_sigmoid = my_opt.minimize(loss1)\n",
    "train_step_relu = my_opt.minimize(loss2)\n",
    "\n",
    "init = tf.global_variables_initializer()\n",
    "sess.run(init)"
   ]
  },
  {
   "cell_type": "code",
   "execution_count": 54,
   "metadata": {},
   "outputs": [
    {
     "name": "stdout",
     "output_type": "stream",
     "text": [
      "\n",
      "Optimizing Sigmoid AND Relu Output to 0.75\n",
      "sigmoid = 0.738884 relu = 0.742126\n",
      "sigmoid = 0.739381 relu = 0.747705\n",
      "sigmoid = 0.740333 relu = 0.748104\n",
      "sigmoid = 0.741143 relu = 0.748104\n",
      "sigmoid = 0.741851 relu = 0.748111\n",
      "sigmoid = 0.742503 relu = 0.748057\n",
      "sigmoid = 0.743074 relu = 0.748113\n",
      "sigmoid = 0.743567 relu = 0.748178\n",
      "sigmoid = 0.743998 relu = 0.748219\n",
      "sigmoid = 0.744407 relu = 0.748186\n"
     ]
    }
   ],
   "source": [
    "print('\\nOptimizing Sigmoid AND Relu Output to 0.75')\n",
    "loss_vec_sigmoid = []\n",
    "loss_vec_relu = []\n",
    "activation_sigmoid = []\n",
    "activation_relu = []\n",
    "for i in range(500):\n",
    "    # バッチを選択するためのインデックスをランダムに選択\n",
    "    rand_indices = np.random.choice(len(x), size=batch_size)\n",
    "    # トレーニングセットの値を選択\n",
    "    x_vals = np.transpose([x[rand_indices]])\n",
    "    # トレーニングステップを実行\n",
    "    sess.run(train_step_sigmoid, feed_dict={x_data: x_vals})\n",
    "    sess.run(train_step_relu, feed_dict={x_data: x_vals})\n",
    "    \n",
    "    loss_vec_sigmoid.append(sess.run(loss1, feed_dict={x_data: x_vals}))\n",
    "    loss_vec_relu.append(sess.run(loss2, feed_dict={x_data: x_vals}))\n",
    "    \n",
    "    activation_sigmoid.append(np.mean(sess.run(sigmoid_activation, feed_dict={x_data: x_vals})))\n",
    "    activation_relu.append(np.mean(sess.run(relu_activation, feed_dict={x_data: x_vals})))\n",
    "    \n",
    "    if i%50==0:\n",
    "        print('sigmoid = ' + str(np.mean(activation_sigmoid)) + ' relu = ' + str(np.mean(activation_relu)))"
   ]
  },
  {
   "cell_type": "code",
   "execution_count": 38,
   "metadata": {},
   "outputs": [
    {
     "data": {
      "image/png": "[encoded data removed]",
      "text/plain": [
       "<matplotlib.figure.Figure at 0x7f88c464e908>"
      ]
     },
     "metadata": {},
     "output_type": "display_data"
    },
    {
     "data": {
      "image/png": "[encoded data removed]",
      "text/plain": [
       "<matplotlib.figure.Figure at 0x7f88c5593160>"
      ]
     },
     "metadata": {},
     "output_type": "display_data"
    }
   ],
   "source": [
    "# 活性化関数の出力と損失関数の出力をプロットする。\n",
    "plt.plot(activation_sigmoid, 'k-', label='Sigmoid Activation')\n",
    "plt.plot(activation_relu, 'r--', label='Relu Activation')\n",
    "plt.ylim([0, 1.0])\n",
    "plt.title('Activation Outputs')\n",
    "plt.xlabel('Generation')\n",
    "plt.ylabel('Outputs')\n",
    "plt.legend(loc='upper right')\n",
    "plt.show()\n",
    "\n",
    "# 損失関数の出力をプロット\n",
    "plt.plot(loss_vec_sigmoid, 'k-', label='Sigmoid Loss')\n",
    "plt.plot(loss_vec_relu, 'r--', label='Relu Loss')\n",
    "plt.ylim([0, 1.0])\n",
    "plt.title('Loss per Generation')\n",
    "plt.xlabel('Generation')\n",
    "plt.ylabel('Loss')\n",
    "plt.legend(loc='upper right')\n",
    "plt.show()"
   ]
  },
  {
   "cell_type": "code",
   "execution_count": 52,
   "metadata": {
    "scrolled": true
   },
   "outputs": [
    {
     "data": {
      "image/png": "[encoded data removed]",
      "text/plain": [
       "<matplotlib.figure.Figure at 0x7f88c46cca90>"
      ]
     },
     "metadata": {},
     "output_type": "display_data"
    },
    {
     "data": {
      "image/png": "[encoded data removed]",
      "text/plain": [
       "<matplotlib.figure.Figure at 0x7f88c45806d8>"
      ]
     },
     "metadata": {},
     "output_type": "display_data"
    }
   ],
   "source": [
    "import tensorflow as tf\n",
    "import numpy as np\n",
    "import matplotlib.pyplot as plt\n",
    "\n",
    "sess = tf.Session()\n",
    "\n",
    "# 乱数シードを設定\n",
    "tf.set_random_seed(5)\n",
    "np.random.seed(42)\n",
    "\n",
    "batch_size = 50\n",
    "\n",
    "a1 = tf.Variable(tf.random_normal(shape=[1,1]))\n",
    "b1 = tf.Variable(tf.random_uniform(shape=[1,1]))\n",
    "a2 = tf.Variable(tf.random_normal(shape=[1,1]))\n",
    "b2 = tf.Variable(tf.random_uniform(shape=[1,1]))\n",
    "x = np.random.normal(2, 0.1, 500)\n",
    "x_data = tf.placeholder(shape=[None, 1], dtype=tf.float32)\n",
    "\n",
    "sigmoid_activation = tf.sigmoid(tf.add(tf.matmul(x_data, a1), b1))\n",
    "\n",
    "relu_activation = tf.nn.relu(tf.add(tf.matmul(x_data, a2), b2))\n",
    "\n",
    "loss1 = tf.reduce_mean(tf.square(tf.subtract(sigmoid_activation, 0.75)))\n",
    "loss2 = tf.reduce_mean(tf.square(tf.subtract(relu_activation, 0.75)))\n",
    "\n",
    "init = tf.global_variables_initializer()\n",
    "sess.run(init)\n",
    "\n",
    "my_opt = tf.train.GradientDescentOptimizer(0.01)\n",
    "train_step_sigmoid = my_opt.minimize(loss1)\n",
    "train_step_relu = my_opt.minimize(loss2)\n",
    "\n",
    "loss_vec_sigmoid = []\n",
    "loss_vec_relu = []\n",
    "activation_sigmoid = []\n",
    "activation_relu = []\n",
    "for i in range(500):\n",
    "    # バッチを選択するためのインデックスをランダムに選択\n",
    "    rand_indices = np.random.choice(len(x), size=batch_size)\n",
    "    # トレーニングセットの値を選択\n",
    "    x_vals = np.transpose([x[rand_indices]])\n",
    "    # トレーニングステップを実行\n",
    "    sess.run(train_step_sigmoid, feed_dict={x_data: x_vals})\n",
    "    sess.run(train_step_relu, feed_dict={x_data: x_vals})\n",
    "    \n",
    "    loss_vec_sigmoid.append(sess.run(loss1, feed_dict={x_data: x_vals}))\n",
    "    loss_vec_relu.append(sess.run(loss2, feed_dict={x_data: x_vals}))\n",
    "    \n",
    "    activation_sigmoid.append(np.mean(sess.run(sigmoid_activation, feed_dict={x_data: x_vals})))\n",
    "    activation_relu.append(np.mean(sess.run(relu_activation, feed_dict={x_data: x_vals})))\n",
    "\n",
    "# 活性化関数の出力と損失関数の出力をプロットする。\n",
    "plt.plot(activation_sigmoid, 'k-', label='Sigmoid Activation')\n",
    "plt.plot(activation_relu, 'r--', label='Relu Activation')\n",
    "plt.ylim([0, 1.0])\n",
    "plt.title('Activation Outputs')\n",
    "plt.xlabel('Generation')\n",
    "plt.ylabel('Outputs')\n",
    "plt.legend(loc='upper right')\n",
    "plt.show()\n",
    "\n",
    "# 損失関数の出力をプロット\n",
    "plt.plot(loss_vec_sigmoid, 'k-', label='Sigmoid Loss')\n",
    "plt.plot(loss_vec_relu, 'r--', label='Relu Loss')\n",
    "plt.ylim([0, 1.0])\n",
    "plt.title('Loss per Generation')\n",
    "plt.xlabel('Generation')\n",
    "plt.ylabel('Loss')\n",
    "plt.legend(loc='upper right')\n",
    "plt.show()"
   ]
  },
  {
   "cell_type": "code",
   "execution_count": 55,
   "metadata": {
    "collapsed": true
   },
   "outputs": [],
   "source": [
    "import matplotlib.pyplot as plt\n",
    "import numpy as np\n",
    "import tensorflow as tf\n",
    "from sklearn import datasets"
   ]
  },
  {
   "cell_type": "code",
   "execution_count": 56,
   "metadata": {
    "collapsed": true
   },
   "outputs": [],
   "source": [
    "iris = datasets.load_iris()\n",
    "# iris.data = [(がく片の長さ, 花びらの長さ, 花びらの幅)]\n",
    "x_vals = np.array([x[0:3] for x in iris.data])\n",
    "y_vals = np.array([x[3] for x in iris.data])\n",
    "\n",
    "sess = tf.Session()"
   ]
  },
  {
   "cell_type": "code",
   "execution_count": 57,
   "metadata": {
    "collapsed": true
   },
   "outputs": [],
   "source": [
    "seed = 2\n",
    "tf.set_random_seed(seed)\n",
    "np.random.seed(seed)"
   ]
  },
  {
   "cell_type": "code",
   "execution_count": 58,
   "metadata": {
    "collapsed": true
   },
   "outputs": [],
   "source": [
    "train_indices = np.random.choice(len(x_vals), round(len(x_vals)*0.8),replace=False)\n",
    "test_indices = np.array(list(set(range(len(x_vals))) - set(train_indices)))\n",
    "x_vals_train = x_vals[train_indices]\n",
    "x_vals_test = x_vals[test_indices]\n",
    "y_vals_train = y_vals[train_indices]\n",
    "y_vals_test = y_vals[test_indices]"
   ]
  },
  {
   "cell_type": "code",
   "execution_count": 59,
   "metadata": {
    "collapsed": true
   },
   "outputs": [],
   "source": [
    "def normalize_cols(m):\n",
    "    col_max = m.max(axis=0)\n",
    "    col_min = m.min(axis=0)\n",
    "    return (m - col_min) / (col_max - col_min)\n",
    "\n",
    "x_vals_train = np.nan_to_num(normalize_cols(x_vals_train))\n",
    "x_vals_test = np.nan_to_num(normalize_cols(x_vals_test))"
   ]
  },
  {
   "cell_type": "code",
   "execution_count": 60,
   "metadata": {
    "collapsed": true
   },
   "outputs": [],
   "source": [
    "batch_size = 50\n",
    "\n",
    "x_data = tf.placeholder(shape=[None, 3], dtype=tf.float32)\n",
    "y_target = tf.placeholder(shape=[None, 1], dtype=tf.float32)"
   ]
  },
  {
   "cell_type": "code",
   "execution_count": 62,
   "metadata": {},
   "outputs": [],
   "source": [
    "hidden_layer_nodes = 5\n",
    "# 入力 → 隠れ層のノード\n",
    "A1 = tf.Variable(tf.random_normal(shape=[3,hidden_layer_nodes]))\n",
    "# 隠れ層のノードごとに1つのバイアス\n",
    "b1 = tf.Variable(tf.random_normal(shape=[hidden_layer_nodes]))\n",
    "# 隠れ層の入力 → 1つの出力\n",
    "A2 = tf.Variable(tf.random_normal(shape=[hidden_layer_nodes, 1]))\n",
    "# 出力のバイアス\n",
    "b2 = tf.Variable(tf.random_normal(shape=[1]))"
   ]
  },
  {
   "cell_type": "code",
   "execution_count": 63,
   "metadata": {
    "collapsed": true
   },
   "outputs": [],
   "source": [
    "hidden_output = tf.nn.relu(tf.add(tf.matmul(x_data, A1), b1))\n",
    "final_output = tf.nn.relu(tf.add(tf.matmul(hidden_output, A2), b2))"
   ]
  },
  {
   "cell_type": "code",
   "execution_count": 64,
   "metadata": {
    "collapsed": true
   },
   "outputs": [],
   "source": [
    "loss = tf.reduce_mean(tf.square(y_target - final_output))"
   ]
  },
  {
   "cell_type": "code",
   "execution_count": 65,
   "metadata": {
    "collapsed": true
   },
   "outputs": [],
   "source": [
    "my_opt = tf.train.GradientDescentOptimizer(0.005)\n",
    "train_step = my_opt.minimize(loss)\n",
    "\n",
    "init = tf.global_variables_initializer()\n",
    "sess.run(init)"
   ]
  },
  {
   "cell_type": "code",
   "execution_count": 67,
   "metadata": {},
   "outputs": [
    {
     "name": "stdout",
     "output_type": "stream",
     "text": [
      "Generation: 50. Loss = 0.438775\n",
      "Generation: 100. Loss = 0.493612\n",
      "Generation: 150. Loss = 0.529575\n",
      "Generation: 200. Loss = 0.410917\n",
      "Generation: 250. Loss = 0.446842\n",
      "Generation: 300. Loss = 0.332491\n",
      "Generation: 350. Loss = 0.296074\n",
      "Generation: 400. Loss = 0.229142\n",
      "Generation: 450. Loss = 0.23694\n",
      "Generation: 500. Loss = 0.162088\n"
     ]
    }
   ],
   "source": [
    "# まず、損失ベクトルの格納先を初期化\n",
    "loss_vec = []\n",
    "test_loss = []\n",
    "for i in range(500):\n",
    "    # バッチをい選択するためのインデックスをランダムに選択\n",
    "    rand_index = np.random.choice(len(x_vals_train), size=batch_size)\n",
    "    # トレーニングセットの値を選択\n",
    "    rand_x = x_vals_train[rand_index]\n",
    "    rand_y = np.transpose([y_vals_train[rand_index]])\n",
    "    # トレーニングステップを実行\n",
    "    sess.run(train_step, feed_dict={x_data: rand_x, y_target: rand_y})\n",
    "    \n",
    "    # トレーニングセットの損失値を保存\n",
    "    temp_loss = sess.run(loss, feed_dict={x_data: rand_x, y_target: rand_y})\n",
    "    loss_vec.append(np.sqrt(temp_loss))\n",
    "    \n",
    "    # テストセットの損失値を保存\n",
    "    test_temp_loss = sess.run(loss, feed_dict={x_data: x_vals_test, y_target: np.transpose([y_vals_test])})\n",
    "    test_loss.append(np.sqrt([test_temp_loss]))\n",
    "    \n",
    "    if (i+1)%50==0:\n",
    "        print('Generation: ' + str(i+1) + '. Loss = ' + str(temp_loss))"
   ]
  },
  {
   "cell_type": "code",
   "execution_count": 68,
   "metadata": {},
   "outputs": [
    {
     "data": {
      "image/png": "[encoded data removed]",
      "text/plain": [
       "<matplotlib.figure.Figure at 0x7f88b3f4aac8>"
      ]
     },
     "metadata": {},
     "output_type": "display_data"
    }
   ],
   "source": [
    "plt.plot(loss_vec, 'k-', label='Train Loss')\n",
    "plt.plot(test_loss, 'r--', label='Test Loss')\n",
    "plt.title('Loss (MSE) per Generation')\n",
    "plt.xlabel('Generation')\n",
    "plt.ylabel('Loss')\n",
    "plt.legend(loc='upper right')\n",
    "plt.show()"
   ]
  },
  {
   "cell_type": "code",
   "execution_count": 74,
   "metadata": {},
   "outputs": [
    {
     "name": "stdout",
     "output_type": "stream",
     "text": [
      "Generation: 50. Loss = 1.61837\n",
      "Generation: 100. Loss = 0.370534\n",
      "Generation: 150. Loss = 0.18638\n",
      "Generation: 200. Loss = 0.127182\n",
      "Generation: 250. Loss = 0.0944887\n",
      "Generation: 300. Loss = 0.0691249\n",
      "Generation: 350. Loss = 0.0558073\n",
      "Generation: 400. Loss = 0.0496253\n",
      "Generation: 450. Loss = 0.0733033\n",
      "Generation: 500. Loss = 0.0602367\n"
     ]
    },
    {
     "data": {
      "image/png": "[encoded data removed]",
      "text/plain": [
       "<matplotlib.figure.Figure at 0x7f88b3cb0470>"
      ]
     },
     "metadata": {},
     "output_type": "display_data"
    }
   ],
   "source": [
    "import matplotlib.pyplot as plt\n",
    "import numpy as np\n",
    "import tensorflow as tf\n",
    "from sklearn import datasets\n",
    "\n",
    "iris = datasets.load_iris()\n",
    "# iris.data = [(がく片の長さ, 花びらの長さ, 花びらの幅)]\n",
    "x_vals = np.array([x[0:3] for x in iris.data])\n",
    "y_vals = np.array([x[3] for x in iris.data])\n",
    "\n",
    "sess = tf.Session()\n",
    "seed = 2\n",
    "tf.set_random_seed(seed)\n",
    "np.random.seed(seed)\n",
    "train_indices = np.random.choice(len(x_vals), round(len(x_vals)*0.8),replace=False)\n",
    "test_indices = np.array(list(set(range(len(x_vals))) - set(train_indices)))\n",
    "x_vals_train = x_vals[train_indices]\n",
    "x_vals_test = x_vals[test_indices]\n",
    "y_vals_train = y_vals[train_indices]\n",
    "y_vals_test = y_vals[test_indices]\n",
    "def normalize_cols(m):\n",
    "    col_max = m.max(axis=0)\n",
    "    col_min = m.min(axis=0)\n",
    "    return (m - col_min) / (col_max - col_min)\n",
    "\n",
    "x_vals_train = np.nan_to_num(normalize_cols(x_vals_train))\n",
    "x_vals_test = np.nan_to_num(normalize_cols(x_vals_test))\n",
    "batch_size = 50\n",
    "\n",
    "x_data = tf.placeholder(shape=[None, 3], dtype=tf.float32)\n",
    "y_target = tf.placeholder(shape=[None, 1], dtype=tf.float32)\n",
    "hidden_layer_nodes = 5\n",
    "# 入力 → 隠れ層のノード\n",
    "A1 = tf.Variable(tf.random_normal(shape=[3,hidden_layer_nodes]))\n",
    "# 隠れ層のノードごとに1つのバイアス\n",
    "b1 = tf.Variable(tf.random_normal(shape=[hidden_layer_nodes]))\n",
    "# 隠れ層の入力 → 1つの出力\n",
    "A2 = tf.Variable(tf.random_normal(shape=[hidden_layer_nodes, 1]))\n",
    "# 出力のバイアス\n",
    "b2 = tf.Variable(tf.random_normal(shape=[1]))\n",
    "hidden_output = tf.nn.relu(tf.add(tf.matmul(x_data, A1), b1))\n",
    "final_output = tf.nn.relu(tf.add(tf.matmul(hidden_output, A2), b2))\n",
    "loss = tf.reduce_mean(tf.square(y_target - final_output))\n",
    "my_opt = tf.train.GradientDescentOptimizer(0.005)\n",
    "train_step = my_opt.minimize(loss)\n",
    "\n",
    "init = tf.global_variables_initializer()\n",
    "sess.run(init)\n",
    "# まず、損失ベクトルの格納先を初期化\n",
    "loss_vec = []\n",
    "test_loss = []\n",
    "for i in range(500):\n",
    "    # バッチをい選択するためのインデックスをランダムに選択\n",
    "    rand_index = np.random.choice(len(x_vals_train), size=batch_size)\n",
    "    # トレーニングセットの値を選択\n",
    "    rand_x = x_vals_train[rand_index]\n",
    "    rand_y = np.transpose([y_vals_train[rand_index]])\n",
    "    # トレーニングステップを実行\n",
    "    sess.run(train_step, feed_dict={x_data: rand_x, y_target: rand_y})\n",
    "    \n",
    "    # トレーニングセットの損失値を保存\n",
    "    temp_loss = sess.run(loss, feed_dict={x_data: rand_x, y_target: rand_y})\n",
    "    loss_vec.append(np.sqrt(temp_loss))\n",
    "    \n",
    "    # テストセットの損失値を保存\n",
    "    test_temp_loss = sess.run(loss, feed_dict={x_data: x_vals_test, y_target: np.transpose([y_vals_test])})\n",
    "    test_loss.append(np.sqrt([test_temp_loss]))\n",
    "    \n",
    "    if (i+1)%50==0:\n",
    "        print('Generation: ' + str(i+1) + '. Loss = ' + str(temp_loss))\n",
    "plt.plot(loss_vec, 'k-', label='Train Loss')\n",
    "plt.plot(test_loss, 'r--', label='Test Loss')\n",
    "plt.title('Loss (MSE) per Generation')\n",
    "plt.xlabel('Generation')\n",
    "plt.ylabel('Loss')\n",
    "plt.legend(loc='upper right')\n",
    "plt.show()"
   ]
  },
  {
   "cell_type": "code",
   "execution_count": null,
   "metadata": {
    "collapsed": true
   },
   "outputs": [],
   "source": []
  }
 ],
 "metadata": {
  "kernelspec": {
   "display_name": "Python 3",
   "language": "python",
   "name": "python3"
  },
  "language_info": {
   "codemirror_mode": {
    "name": "ipython",
    "version": 3
   },
   "file_extension": ".py",
   "mimetype": "text/x-python",
   "name": "python",
   "nbconvert_exporter": "python",
   "pygments_lexer": "ipython3",
   "version": "3.6.2"
  }
 },
 "nbformat": 4,
 "nbformat_minor": 2
}
