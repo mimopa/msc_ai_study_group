{
  "nbformat": 4,
  "nbformat_minor": 0,
  "metadata": {
    "colab": {
      "name": "2-4.ipynb",
      "version": "0.3.2",
      "provenance": [],
      "collapsed_sections": []
    },
    "kernelspec": {
      "name": "python3",
      "display_name": "Python 3"
    }
  },
  "cells": [
    {
      "cell_type": "markdown",
      "metadata": {
        "id": "view-in-github",
        "colab_type": "text"
      },
      "source": [
        "[View in Colaboratory](https://colab.research.google.com/github/mimopa/msc_ai_study_group/blob/master/2_4.ipynb)"
      ]
    },
    {
      "metadata": {
        "id": "bUHl9A9uaWZs",
        "colab_type": "code",
        "colab": {
          "base_uri": "https://localhost:8080/",
          "height": 162
        },
        "outputId": "638c6245-dd13-4598-cfcb-3bcfee16ad98"
      },
      "cell_type": "code",
      "source": [
        "from tensorflow.examples.tutorials.mnist import input_data\n",
        "import tensorflow as tf\n",
        "\n",
        "# mnistデータを格納したオブジェクトを呼び出す\n",
        "mnist = input_data.read_data_sets(\"data/\", one_hot=True)\n",
        "\n",
        "# 全訓練データの取得\n",
        "train_images, train_labels = mnist.train.next_batch(50)\n",
        "\n",
        "# テスト用の全画像データを取得\n",
        "test_images = mnist.test.images\n",
        "# テスト用の全正解データを取得\n",
        "test_labels = mnist.test.labels"
      ],
      "execution_count": 3,
      "outputs": [
        {
          "output_type": "stream",
          "text": [
            "Successfully downloaded train-images-idx3-ubyte.gz 9912422 bytes.\n",
            "Extracting data/train-images-idx3-ubyte.gz\n",
            "Successfully downloaded train-labels-idx1-ubyte.gz 28881 bytes.\n",
            "Extracting data/train-labels-idx1-ubyte.gz\n",
            "Successfully downloaded t10k-images-idx3-ubyte.gz 1648877 bytes.\n",
            "Extracting data/t10k-images-idx3-ubyte.gz\n",
            "Successfully downloaded t10k-labels-idx1-ubyte.gz 4542 bytes.\n",
            "Extracting data/t10k-labels-idx1-ubyte.gz\n"
          ],
          "name": "stdout"
        }
      ]
    },
    {
      "metadata": {
        "id": "UjNVl0UPHPyL",
        "colab_type": "code",
        "colab": {}
      },
      "cell_type": "code",
      "source": [
        "# 入力データを定義\n",
        "x = tf.placeholder(tf.float32, [None, 784])"
      ],
      "execution_count": 0,
      "outputs": []
    },
    {
      "metadata": {
        "id": "7ipUwTT0IzPk",
        "colab_type": "code",
        "colab": {}
      },
      "cell_type": "code",
      "source": [
        "# 入力値から中間層\n",
        "w_1 = tf.Variable(tf.truncated_normal([784, 64], stddev=0.1), name=\"w1\")\n",
        "b_1 = tf.Variable(tf.zeros([64]), name=\"b1\")\n",
        "h_1 = tf.nn.relu(tf.matmul(x, w_1) + b_1)"
      ],
      "execution_count": 0,
      "outputs": []
    },
    {
      "metadata": {
        "id": "UTwYXTYwJ2On",
        "colab_type": "code",
        "colab": {}
      },
      "cell_type": "code",
      "source": [
        "# 中間層から出力層\n",
        "w_2 = tf.Variable(tf.truncated_normal([64, 10], stddev=0.1), name=\"w2\")\n",
        "b_2 = tf.Variable(tf.zeros([10]), name=\"b2\")\n",
        "out = tf.nn.softmax(tf.matmul(h_1, w_2) + b_2)"
      ],
      "execution_count": 0,
      "outputs": []
    },
    {
      "metadata": {
        "id": "JF7WU3-TMZ9P",
        "colab_type": "code",
        "colab": {}
      },
      "cell_type": "code",
      "source": [
        "# 誤差関数\n",
        "y = tf.placeholder(tf.float32, [None, 10])\n",
        "loss = tf.reduce_mean(tf.square(y - out))"
      ],
      "execution_count": 0,
      "outputs": []
    },
    {
      "metadata": {
        "id": "yaK6UKyaNmwx",
        "colab_type": "code",
        "colab": {}
      },
      "cell_type": "code",
      "source": [
        "# 訓練\n",
        "train_step = tf.train.GradientDescentOptimizer(0.5).minimize(loss)"
      ],
      "execution_count": 0,
      "outputs": []
    },
    {
      "metadata": {
        "id": "TMNn53nNOWfi",
        "colab_type": "code",
        "colab": {}
      },
      "cell_type": "code",
      "source": [
        "# 評価\n",
        "correct = tf.equal(tf.argmax(out, 1), tf.argmax(y, 1))\n",
        "accuracy = tf.reduce_mean(tf.cast(correct, tf.float32))"
      ],
      "execution_count": 0,
      "outputs": []
    },
    {
      "metadata": {
        "id": "lSTPOzAiRwUn",
        "colab_type": "code",
        "colab": {}
      },
      "cell_type": "code",
      "source": [
        "# 初期化\n",
        "init = tf.global_variables_initializer()"
      ],
      "execution_count": 0,
      "outputs": []
    },
    {
      "metadata": {
        "id": "-vKzVvwpR3DE",
        "colab_type": "code",
        "colab": {
          "base_uri": "https://localhost:8080/",
          "height": 1818
        },
        "outputId": "9f8c6a05-e703-4154-dc2b-6f3bc71a8d68"
      },
      "cell_type": "code",
      "source": [
        "# 実行\n",
        "with tf.Session() as sess:\n",
        "  \n",
        "  sess.run(init)\n",
        "  \n",
        "  # テストデータをロード\n",
        "  test_images = mnist.test.images\n",
        "  test_labels = mnist.test.labels\n",
        "  \n",
        "  for i in range(1000):\n",
        "    step = i + 1\n",
        "    train_images, train_labels = mnist.train.next_batch(50)\n",
        "    sess.run(train_step, feed_dict={x:train_images, y:train_labels})\n",
        "    \n",
        "    if step % 10 == 0:\n",
        "      acc_val = sess.run(accuracy, feed_dict={x:test_images, y:test_labels})\n",
        "      print('Step %d: accuracy = %.2f' % (step, acc_val))"
      ],
      "execution_count": 18,
      "outputs": [
        {
          "output_type": "stream",
          "text": [
            "Step 10: accuracy = 0.07\n",
            "Step 20: accuracy = 0.09\n",
            "Step 30: accuracy = 0.12\n",
            "Step 40: accuracy = 0.16\n",
            "Step 50: accuracy = 0.21\n",
            "Step 60: accuracy = 0.24\n",
            "Step 70: accuracy = 0.25\n",
            "Step 80: accuracy = 0.27\n",
            "Step 90: accuracy = 0.28\n",
            "Step 100: accuracy = 0.29\n",
            "Step 110: accuracy = 0.33\n",
            "Step 120: accuracy = 0.36\n",
            "Step 130: accuracy = 0.42\n",
            "Step 140: accuracy = 0.46\n",
            "Step 150: accuracy = 0.49\n",
            "Step 160: accuracy = 0.52\n",
            "Step 170: accuracy = 0.54\n",
            "Step 180: accuracy = 0.56\n",
            "Step 190: accuracy = 0.58\n",
            "Step 200: accuracy = 0.59\n",
            "Step 210: accuracy = 0.60\n",
            "Step 220: accuracy = 0.61\n",
            "Step 230: accuracy = 0.61\n",
            "Step 240: accuracy = 0.63\n",
            "Step 250: accuracy = 0.63\n",
            "Step 260: accuracy = 0.65\n",
            "Step 270: accuracy = 0.66\n",
            "Step 280: accuracy = 0.65\n",
            "Step 290: accuracy = 0.67\n",
            "Step 300: accuracy = 0.69\n",
            "Step 310: accuracy = 0.70\n",
            "Step 320: accuracy = 0.71\n",
            "Step 330: accuracy = 0.74\n",
            "Step 340: accuracy = 0.76\n",
            "Step 350: accuracy = 0.77\n",
            "Step 360: accuracy = 0.77\n",
            "Step 370: accuracy = 0.78\n",
            "Step 380: accuracy = 0.78\n",
            "Step 390: accuracy = 0.80\n",
            "Step 400: accuracy = 0.79\n",
            "Step 410: accuracy = 0.81\n",
            "Step 420: accuracy = 0.82\n",
            "Step 430: accuracy = 0.82\n",
            "Step 440: accuracy = 0.82\n",
            "Step 450: accuracy = 0.83\n",
            "Step 460: accuracy = 0.83\n",
            "Step 470: accuracy = 0.83\n",
            "Step 480: accuracy = 0.84\n",
            "Step 490: accuracy = 0.84\n",
            "Step 500: accuracy = 0.84\n",
            "Step 510: accuracy = 0.84\n",
            "Step 520: accuracy = 0.84\n",
            "Step 530: accuracy = 0.84\n",
            "Step 540: accuracy = 0.84\n",
            "Step 550: accuracy = 0.85\n",
            "Step 560: accuracy = 0.85\n",
            "Step 570: accuracy = 0.85\n",
            "Step 580: accuracy = 0.85\n",
            "Step 590: accuracy = 0.85\n",
            "Step 600: accuracy = 0.85\n",
            "Step 610: accuracy = 0.86\n",
            "Step 620: accuracy = 0.86\n",
            "Step 630: accuracy = 0.86\n",
            "Step 640: accuracy = 0.86\n",
            "Step 650: accuracy = 0.86\n",
            "Step 660: accuracy = 0.87\n",
            "Step 670: accuracy = 0.86\n",
            "Step 680: accuracy = 0.86\n",
            "Step 690: accuracy = 0.87\n",
            "Step 700: accuracy = 0.87\n",
            "Step 710: accuracy = 0.87\n",
            "Step 720: accuracy = 0.87\n",
            "Step 730: accuracy = 0.87\n",
            "Step 740: accuracy = 0.87\n",
            "Step 750: accuracy = 0.87\n",
            "Step 760: accuracy = 0.87\n",
            "Step 770: accuracy = 0.87\n",
            "Step 780: accuracy = 0.87\n",
            "Step 790: accuracy = 0.88\n",
            "Step 800: accuracy = 0.88\n",
            "Step 810: accuracy = 0.88\n",
            "Step 820: accuracy = 0.88\n",
            "Step 830: accuracy = 0.88\n",
            "Step 840: accuracy = 0.87\n",
            "Step 850: accuracy = 0.88\n",
            "Step 860: accuracy = 0.88\n",
            "Step 870: accuracy = 0.88\n",
            "Step 880: accuracy = 0.88\n",
            "Step 890: accuracy = 0.88\n",
            "Step 900: accuracy = 0.88\n",
            "Step 910: accuracy = 0.88\n",
            "Step 920: accuracy = 0.88\n",
            "Step 930: accuracy = 0.88\n",
            "Step 940: accuracy = 0.89\n",
            "Step 950: accuracy = 0.88\n",
            "Step 960: accuracy = 0.88\n",
            "Step 970: accuracy = 0.89\n",
            "Step 980: accuracy = 0.89\n",
            "Step 990: accuracy = 0.89\n",
            "Step 1000: accuracy = 0.89\n"
          ],
          "name": "stdout"
        }
      ]
    },
    {
      "metadata": {
        "id": "rtbvB2EIToyJ",
        "colab_type": "code",
        "colab": {}
      },
      "cell_type": "code",
      "source": [
        ""
      ],
      "execution_count": 0,
      "outputs": []
    }
  ]
}