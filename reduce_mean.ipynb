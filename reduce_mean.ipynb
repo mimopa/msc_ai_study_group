{
  "nbformat": 4,
  "nbformat_minor": 0,
  "metadata": {
    "colab": {
      "name": "reduce_mean.ipynb",
      "version": "0.3.2",
      "provenance": [],
      "collapsed_sections": []
    },
    "kernelspec": {
      "name": "python3",
      "display_name": "Python 3"
    }
  },
  "cells": [
    {
      "cell_type": "markdown",
      "metadata": {
        "id": "view-in-github",
        "colab_type": "text"
      },
      "source": [
        "[View in Colaboratory](https://colab.research.google.com/github/mimopa/msc_ai_study_group/blob/master/reduce_mean.ipynb)"
      ]
    },
    {
      "metadata": {
        "id": "qRg8gwFMPRlF",
        "colab_type": "code",
        "colab": {
          "base_uri": "https://localhost:8080/",
          "height": 90
        },
        "outputId": "d5e10d42-551e-46ec-c414-48f4f0c68658"
      },
      "cell_type": "code",
      "source": [
        "import tensorflow as tf\n",
        "\n",
        "a = [[1., 2., 3.], [4., 5., 6.]]\n",
        "\n",
        "x = tf.placeholder(tf.float32, [2, 3])\n",
        "y_1 = tf.reduce_mean(x, axis=0)\n",
        "y_2 = tf.reduce_mean(x, axis=1)\n",
        "y_3 = tf.reduce_mean(x)\n",
        "\n",
        "with tf.Session() as sess:\n",
        "  print(a)\n",
        "  print(sess.run(y_1, feed_dict={x:a}))\n",
        "  print(sess.run(y_2, feed_dict={x:a}))\n",
        "  print(sess.run(y_3, feed_dict={x:a}))"
      ],
      "execution_count": 2,
      "outputs": [
        {
          "output_type": "stream",
          "text": [
            "[[1.0, 2.0, 3.0], [4.0, 5.0, 6.0]]\n",
            "[2.5 3.5 4.5]\n",
            "[2. 5.]\n",
            "3.5\n"
          ],
          "name": "stdout"
        }
      ]
    },
    {
      "metadata": {
        "id": "5j6gvkTWQIiq",
        "colab_type": "code",
        "colab": {}
      },
      "cell_type": "code",
      "source": [
        ""
      ],
      "execution_count": 0,
      "outputs": []
    }
  ]
}