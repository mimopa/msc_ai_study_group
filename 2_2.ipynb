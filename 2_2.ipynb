{
  "nbformat": 4,
  "nbformat_minor": 0,
  "metadata": {
    "colab": {
      "name": "2-2.ipynb",
      "version": "0.3.2",
      "provenance": []
    },
    "kernelspec": {
      "name": "python3",
      "display_name": "Python 3"
    }
  },
  "cells": [
    {
      "cell_type": "markdown",
      "metadata": {
        "id": "view-in-github",
        "colab_type": "text"
      },
      "source": [
        "[View in Colaboratory](https://colab.research.google.com/github/mimopa/msc_ai_study_group/blob/master/2_2.ipynb)"
      ]
    },
    {
      "metadata": {
        "id": "KdCV0uT1XjA8",
        "colab_type": "code",
        "colab": {
          "base_uri": "https://localhost:8080/",
          "height": 72
        },
        "outputId": "3217f11e-3985-4c52-ddcc-6f11ca721cd7"
      },
      "cell_type": "code",
      "source": [
        "import tensorflow as tf\n",
        "\n",
        "a = tf.constant(3, name='const1') #定数 a\n",
        "b = tf.Variable(0, name='val1') #定数 b\n",
        "# a と b を足す\n",
        "add = tf.add(a,b)\n",
        "# 変数bに足した結果をアサイン\n",
        "assign = tf.assign(b, add)\n",
        "c = tf.placeholder(tf.int32, name='input') #入力c\n",
        "# アサインした結果とcを掛け算\n",
        "mul = tf.multiply(assign, c)\n",
        "# 変数の初期化\n",
        "init = tf.global_variables_initializer()\n",
        "with tf.Session() as sess:\n",
        "  #初期化を実行\n",
        "  sess.run(init)\n",
        "  for i in range(3):\n",
        "    # 掛け算を計算するまでのループを実行\n",
        "    print(sess.run(mul, feed_dict={c:3}))"
      ],
      "execution_count": 8,
      "outputs": [
        {
          "output_type": "stream",
          "text": [
            "9\n",
            "18\n",
            "27\n"
          ],
          "name": "stdout"
        }
      ]
    },
    {
      "metadata": {
        "id": "yNSOzgKdXsNj",
        "colab_type": "code",
        "colab": {}
      },
      "cell_type": "code",
      "source": [
        ""
      ],
      "execution_count": 0,
      "outputs": []
    }
  ]
}