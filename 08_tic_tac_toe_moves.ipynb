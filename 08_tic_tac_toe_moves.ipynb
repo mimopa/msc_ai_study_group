{
 "cells": [
  {
   "cell_type": "code",
   "execution_count": 17,
   "metadata": {
    "collapsed": true
   },
   "outputs": [],
   "source": [
    "import tensorflow as tf\n",
    "import matplotlib.pyplot as plt\n",
    "import csv\n",
    "import random\n",
    "import numpy as np\n",
    "import random\n",
    "from tensorflow.python.framework import ops\n",
    "ops.reset_default_graph()"
   ]
  },
  {
   "cell_type": "code",
   "execution_count": 18,
   "metadata": {
    "collapsed": true
   },
   "outputs": [],
   "source": [
    "response = 6\n",
    "batch_size = 50\n",
    "symmetry = ['rotate180', 'rotate90', 'rotate270', 'flip_v', 'flip_h']"
   ]
  },
  {
   "cell_type": "code",
   "execution_count": 19,
   "metadata": {
    "collapsed": true
   },
   "outputs": [],
   "source": [
    "def print_board(board):\n",
    "    symbols = ['O',' ','X']\n",
    "    board_plus1 = [int(x) + 1 for x in board]\n",
    "    print(' ' + symbols[board_plus1[0]] + ' | ' + symbols[board_plus1[1]] + ' | ' + symbols[board_plus1[2]])\n",
    "    print('___________')\n",
    "    print(' ' + symbols[board_plus1[3]] + ' | ' + symbols[board_plus1[4]] + ' | ' + symbols[board_plus1[5]])\n",
    "    print('___________')\n",
    "    print(' ' + symbols[board_plus1[6]] + ' | ' + symbols[board_plus1[7]] + ' | ' + symbols[board_plus1[8]])"
   ]
  },
  {
   "cell_type": "code",
   "execution_count": 20,
   "metadata": {
    "collapsed": true
   },
   "outputs": [],
   "source": [
    "def get_symmetry(board, response, transformation):\n",
    "    '''\n",
    "    :param board: 長さ9の整数のリスト\n",
    "     opposing mark = -1\n",
    "     friendly mark = 1\n",
    "     empty space = 0\n",
    "    :param transformation: 以下の5つの座標変換のうちの1つ\n",
    "     'rotate180', 'rotate90', 'rotate270', 'flip_v', 'flip_h'\n",
    "    :return: tuple: (new_board, new_response)\n",
    "    '''\n",
    "    if transformation == 'rotate180':\n",
    "        new_response = 8 - response\n",
    "        return(board[::-1], new_response)\n",
    "    elif transformation == 'rotate90':\n",
    "        new_response = [6, 3, 0, 7, 4, 1, 8, 5, 2].index(response)\n",
    "        tuple_board = list(zip(*[board[6:9], board[3:6], board[0:3]]))\n",
    "        return([value for item in tuple_board for value in item], new_response)\n",
    "    elif transformation == 'rotate270':\n",
    "        new_response = [2, 5, 8, 1, 4, 7, 0, 3, 6].index(response)\n",
    "        tuple_board = list(zip(*[board[0:3], board[3:6], board[6:9]]))[::-1]\n",
    "        return([value for item in tuple_board for value in item], new_response)\n",
    "    elif transformation == 'flip_v':\n",
    "        new_response = [6, 7, 8, 3, 4, 5, 0, 1, 2].index(response)\n",
    "        return(board[6:9] +  board[3:6] + board[0:3], new_response)\n",
    "    elif transformation == 'flip_h':  # flip_h = rotate180, then flip_v\n",
    "        new_response = [2, 1, 0, 5, 4, 3, 8, 7, 6].index(response)\n",
    "        new_board = board[::-1]\n",
    "        return(new_board[6:9] +  new_board[3:6] + new_board[0:3], new_response)\n",
    "    else:\n",
    "        raise ValueError('Method not implemented.')"
   ]
  },
  {
   "cell_type": "code",
   "execution_count": 21,
   "metadata": {
    "collapsed": true
   },
   "outputs": [],
   "source": [
    "def get_moves_from_csv(csv_file):\n",
    "    '''\n",
    "    :param csv_file: 局面と最善の手を含むCSVファイル\n",
    "    :return: moves: 最善の手のインデックスが含まれた指してのリスト\n",
    "    '''\n",
    "    moves = []\n",
    "    with open(csv_file, 'rt') as csvfile:\n",
    "        reader = csv.reader(csvfile, delimiter=',')\n",
    "        for row in reader:\n",
    "            moves.append(([int(x) for x in row[0:9]],int(row[9])))\n",
    "    return(moves)"
   ]
  },
  {
   "cell_type": "code",
   "execution_count": 22,
   "metadata": {
    "collapsed": true
   },
   "outputs": [],
   "source": [
    "def get_rand_move(moves, n=1, rand_transforms=2):\n",
    "    # この関数は盤上でランダムな変換を実行する\n",
    "    (board, response) = random.choice(moves)\n",
    "    possible_transforms = ['rotate90', 'rotate180', 'rotate270', 'flip_v', 'flip_h']\n",
    "    for i in range(rand_transforms):\n",
    "        random_transform = random.choice(possible_transforms)\n",
    "        (board, response) = get_symmetry(board, response, random_transform)\n",
    "\n",
    "    return(board, response)"
   ]
  },
  {
   "cell_type": "code",
   "execution_count": 23,
   "metadata": {
    "collapsed": true
   },
   "outputs": [],
   "source": [
    "sess = tf.Session()\n",
    "\n",
    "# 局面と最善の手が含まれたリストを取得\n",
    "moves = get_moves_from_csv('base_tic_tac_toe_moves.csv')\n",
    "\n",
    "# トレーニングセットを作成\n",
    "train_length = 500\n",
    "train_set = []\n",
    "for t in range(train_length):\n",
    "    train_set.append(get_rand_move(moves))"
   ]
  },
  {
   "cell_type": "code",
   "execution_count": 24,
   "metadata": {
    "collapsed": true
   },
   "outputs": [],
   "source": [
    "test_board = [-1, 0, 0, 1, -1, -1, 0, 0, 1]\n",
    "train_set = [x for x in train_set if x[0] != test_board]"
   ]
  },
  {
   "cell_type": "code",
   "execution_count": 25,
   "metadata": {
    "collapsed": true
   },
   "outputs": [],
   "source": [
    "def init_weights(shape):\n",
    "    return(tf.Variable(tf.random_normal(shape)))\n",
    "\n",
    "def model(X, A1, A2, bias1, bias2):\n",
    "    layer1 = tf.nn.sigmoid(tf.add(tf.matmul(X, A1), bias1))\n",
    "    layer2 = tf.add(tf.matmul(layer1, A2), bias2)\n",
    "    return(layer2)"
   ]
  },
  {
   "cell_type": "code",
   "execution_count": 26,
   "metadata": {
    "collapsed": true
   },
   "outputs": [],
   "source": [
    "X = tf.placeholder(dtype=tf.float32, shape=[None, 9])\n",
    "Y = tf.placeholder(dtype=tf.int32, shape=[None])\n",
    "\n",
    "A1 = init_weights([9, 81])\n",
    "bias1 = init_weights([81])\n",
    "A2 = init_weights([81, 9])\n",
    "bias2 = init_weights([9])\n",
    "\n",
    "model_output = model(X, A1, A2, bias1, bias2)"
   ]
  },
  {
   "cell_type": "code",
   "execution_count": 27,
   "metadata": {
    "collapsed": true
   },
   "outputs": [],
   "source": [
    "loss = tf.reduce_mean(tf.nn.sparse_softmax_cross_entropy_with_logits(logits=model_output, labels=Y))\n",
    "train_step = tf.train.GradientDescentOptimizer(0.025).minimize(loss)\n",
    "prediction = tf.argmax(model_output, 1)"
   ]
  },
  {
   "cell_type": "code",
   "execution_count": 28,
   "metadata": {},
   "outputs": [
    {
     "name": "stdout",
     "output_type": "stream",
     "text": [
      "iteration 0 Loss: 10.7689\n",
      "iteration 500 Loss: 1.72355\n",
      "iteration 1000 Loss: 1.64711\n",
      "iteration 1500 Loss: 1.3573\n",
      "iteration 2000 Loss: 1.51086\n",
      "iteration 2500 Loss: 1.10121\n",
      "iteration 3000 Loss: 1.18829\n",
      "iteration 3500 Loss: 1.22929\n",
      "iteration 4000 Loss: 1.09935\n",
      "iteration 4500 Loss: 1.04281\n",
      "iteration 5000 Loss: 0.99584\n",
      "iteration 5500 Loss: 1.00308\n",
      "iteration 6000 Loss: 0.954162\n",
      "iteration 6500 Loss: 0.915397\n",
      "iteration 7000 Loss: 0.781549\n",
      "iteration 7500 Loss: 0.756178\n",
      "iteration 8000 Loss: 0.853005\n",
      "iteration 8500 Loss: 0.814023\n",
      "iteration 9000 Loss: 0.71826\n",
      "iteration 9500 Loss: 0.86705\n"
     ]
    }
   ],
   "source": [
    "# 変数を初期化\n",
    "init = tf.global_variables_initializer()\n",
    "sess.run(init)\n",
    "\n",
    "loss_vec = []\n",
    "for i in range(10000):\n",
    "    # バッチを選択するためのインデックスをランダムに選択\n",
    "    rand_indices = np.random.choice(range(len(train_set)), batch_size, replace=False)\n",
    "    # ランダムな値でバッチを取得\n",
    "    batch_data = [train_set[i] for i in rand_indices]\n",
    "    x_input = [x[0] for x in batch_data]\n",
    "    y_target = np.array([y[1] for y in batch_data])\n",
    "    # トレーニングステップを実行\n",
    "    sess.run(train_step, feed_dict={X: x_input, Y: y_target})\n",
    "    \n",
    "    # トレーニングセットの損失値を取得\n",
    "    temp_loss = sess.run(loss, feed_dict={X: x_input, Y: y_target})\n",
    "    loss_vec.append(temp_loss)\n",
    "    \n",
    "    if i%500==0:\n",
    "        print('iteration ' + str(i) + ' Loss: ' + str(temp_loss))"
   ]
  },
  {
   "cell_type": "code",
   "execution_count": 29,
   "metadata": {},
   "outputs": [
    {
     "data": {
      "image/png": "[encoded data removed]",
      "text/plain": [
       "<matplotlib.figure.Figure at 0x7febaaa71128>"
      ]
     },
     "metadata": {},
     "output_type": "display_data"
    }
   ],
   "source": [
    "plt.plot(loss_vec, 'k-', label='Loss')\n",
    "plt.title('Loss (MSE) per Generation')\n",
    "plt.xlabel('Generation')\n",
    "plt.ylabel('Loss')\n",
    "plt.show()"
   ]
  },
  {
   "cell_type": "code",
   "execution_count": 30,
   "metadata": {},
   "outputs": [
    {
     "name": "stdout",
     "output_type": "stream",
     "text": [
      "[6]\n"
     ]
    }
   ],
   "source": [
    "test_boards = [test_board]\n",
    "feed_dict = {X: test_boards}\n",
    "logits = sess.run(model_output, feed_dict=feed_dict)\n",
    "predictions = sess.run(prediction, feed_dict=feed_dict)\n",
    "print(predictions)"
   ]
  },
  {
   "cell_type": "code",
   "execution_count": 31,
   "metadata": {
    "collapsed": true
   },
   "outputs": [],
   "source": [
    "def check(board):\n",
    "    wins = [[0,1,2], [3,4,5], [6,7,8], [0,3,6], [1,4,7], [2,5,8], [0,4,8], [2,4,6]]\n",
    "    for i in range(len(wins)):\n",
    "        if board[wins[i][0]]==board[wins[i][1]]==board[wins[i][2]]==1.:\n",
    "            return(1)\n",
    "        elif board[wins[i][0]]==board[wins[i][1]]==board[wins[i][2]]==-1.:\n",
    "            return(1)\n",
    "    return(0)"
   ]
  },
  {
   "cell_type": "code",
   "execution_count": 32,
   "metadata": {},
   "outputs": [
    {
     "name": "stdout",
     "output_type": "stream",
     "text": [
      "Input index of your move (0-8): 4\n",
      "Model has moved\n",
      " O |   |  \n",
      "___________\n",
      "   | X |  \n",
      "___________\n",
      "   |   |  \n",
      "Input index of your move (0-8): 6\n",
      "Model has moved\n",
      " O |   |  \n",
      "___________\n",
      "   | X |  \n",
      "___________\n",
      " X | O |  \n",
      "Input index of your move (0-8): 2\n",
      "Model has moved\n",
      " O |   | X\n",
      "___________\n",
      "   | X |  \n",
      "___________\n",
      " X | O | O\n",
      "Game Over!\n"
     ]
    }
   ],
   "source": [
    "game_tracker = [0., 0., 0., 0., 0., 0., 0., 0., 0.]\n",
    "win_logical = False\n",
    "num_moves = 0\n",
    "while not win_logical:\n",
    "    player_index = input('Input index of your move (0-8): ')\n",
    "    num_moves += 1\n",
    "    # プレイヤーの指し手をゲームに追加\n",
    "    game_tracker[int(player_index)] = 1.\n",
    "    \n",
    "    # まず、各インデックスのロジットをすべて取得することにより、モデルの差し手を取得\n",
    "    [potential_moves] = sess.run(model_output, feed_dict={X: [game_tracker]})\n",
    "    # 次に、打てる手（game_trackerの値が0.0）をすべて取得\n",
    "    allowed_moves = [ix for ix,x in enumerate(game_tracker) if x==0.0]\n",
    "    # ロジットのargmaxを求めることで、最善の手を取得\n",
    "    model_move = np.argmax([x if ix in allowed_moves else -999.0 for ix,x in enumerate(potential_moves)])\n",
    "    \n",
    "    # モデルの差し手をゲームに追加\n",
    "    game_tracker[int(model_move)] = -1.\n",
    "    print('Model has moved')\n",
    "    print_board(game_tracker)\n",
    "    # 勝ったか、それとも差し手が多すぎるかを確認\n",
    "    if check(game_tracker)==1 or num_moves>=5:\n",
    "        print('Game Over!')\n",
    "        win_logical = True"
   ]
  },
  {
   "cell_type": "code",
   "execution_count": null,
   "metadata": {
    "collapsed": true
   },
   "outputs": [],
   "source": [
    "import tensorflow as tf\n",
    "import matplotlib.pyplot as plt\n",
    "import csv\n",
    "import random\n",
    "import numpy as np\n",
    "import random\n",
    "from tensorflow.python.framework import ops\n",
    "ops.reset_default_graph()\n",
    "\n",
    "# X = 1\n",
    "# O = -1\n",
    "# empty = 0\n",
    "# response on 1-9 grid for placement of next '1'\n",
    "\n",
    "\n",
    "# For example, the 'test_board' is:\n",
    "#\n",
    "#   O  |  -  |  -\n",
    "# -----------------\n",
    "#   X  |  O  |  O\n",
    "# -----------------\n",
    "#   -  |  -  |  X\n",
    "#\n",
    "# board above = [-1, 0, 0, 1, -1, -1, 0, 0, 1]\n",
    "# Optimal response would be position 6, where\n",
    "# the position numbers are:\n",
    "#\n",
    "#   0  |  1  |  2\n",
    "# -----------------\n",
    "#   3  |  4  |  5\n",
    "# -----------------\n",
    "#   6  |  7  |  8\n",
    "\n",
    "response = 6\n",
    "batch_size = 50\n",
    "symmetry = ['rotate180', 'rotate90', 'rotate270', 'flip_v', 'flip_h']\n",
    "\n",
    "\n",
    "# Print a board\n",
    "def print_board(board):\n",
    "    symbols = ['O',' ','X']\n",
    "    board_plus1 = [int(x) + 1 for x in board]\n",
    "    print(' ' + symbols[board_plus1[0]] + ' | ' + symbols[board_plus1[1]] + ' | ' + symbols[board_plus1[2]])\n",
    "    print('___________')\n",
    "    print(' ' + symbols[board_plus1[3]] + ' | ' + symbols[board_plus1[4]] + ' | ' + symbols[board_plus1[5]])\n",
    "    print('___________')\n",
    "    print(' ' + symbols[board_plus1[6]] + ' | ' + symbols[board_plus1[7]] + ' | ' + symbols[board_plus1[8]])\n",
    "\n",
    "\n",
    "## Given a board, a response, and a transformation, get the new board+response\n",
    "def get_symmetry(board, response, transformation):\n",
    "    '''\n",
    "    :param board: list of integers 9 long:\n",
    "     opposing mark = -1\n",
    "     friendly mark = 1\n",
    "     empty space = 0\n",
    "    :param transformation: one of five transformations on a board:\n",
    "     'rotate180', 'rotate90', 'rotate270', 'flip_v', 'flip_h'\n",
    "    :return: tuple: (new_board, new_response)\n",
    "    '''\n",
    "    if transformation == 'rotate180':\n",
    "        new_response = 8 - response\n",
    "        return(board[::-1], new_response)\n",
    "    elif transformation == 'rotate90':\n",
    "        new_response = [6, 3, 0, 7, 4, 1, 8, 5, 2].index(response)\n",
    "        tuple_board = list(zip(*[board[6:9], board[3:6], board[0:3]]))\n",
    "        return([value for item in tuple_board for value in item], new_response)\n",
    "    elif transformation == 'rotate270':\n",
    "        new_response = [2, 5, 8, 1, 4, 7, 0, 3, 6].index(response)\n",
    "        tuple_board = list(zip(*[board[0:3], board[3:6], board[6:9]]))[::-1]\n",
    "        return([value for item in tuple_board for value in item], new_response)\n",
    "    elif transformation == 'flip_v':\n",
    "        new_response = [6, 7, 8, 3, 4, 5, 0, 1, 2].index(response)\n",
    "        return(board[6:9] +  board[3:6] + board[0:3], new_response)\n",
    "    elif transformation == 'flip_h':  # flip_h = rotate180, then flip_v\n",
    "        new_response = [2, 1, 0, 5, 4, 3, 8, 7, 6].index(response)\n",
    "        new_board = board[::-1]\n",
    "        return(new_board[6:9] +  new_board[3:6] + new_board[0:3], new_response)\n",
    "    else:\n",
    "        raise ValueError('Method not implemented.')\n",
    "\n",
    "\n",
    "## Read in board move csv file\n",
    "def get_moves_from_csv(csv_file):\n",
    "    '''\n",
    "    :param csv_file: csv file location containing the boards w/ responses\n",
    "    :return: moves: list of moves with index of best response\n",
    "    '''\n",
    "    moves = []\n",
    "    with open(csv_file, 'rt') as csvfile:\n",
    "        reader = csv.reader(csvfile, delimiter=',')\n",
    "        for row in reader:\n",
    "            moves.append(([int(x) for x in row[0:9]],int(row[9])))\n",
    "    return(moves)\n",
    "\n",
    "## Get random board with optimal move\n",
    "def get_rand_move(moves, n=1, rand_transforms=2):\n",
    "    '''\n",
    "    :param moves: list of the boards w/responses\n",
    "    :param n: how many board positions with responses to return in a list form\n",
    "    :param rand_transforms: how many random transforms performed on each\n",
    "    :return: (board, response), board is a list of 9 integers, response is 1 int\n",
    "    '''\n",
    "    (board, response) = random.choice(moves)\n",
    "    possible_transforms = ['rotate90', 'rotate180', 'rotate270', 'flip_v', 'flip_h']\n",
    "    for i in range(rand_transforms):\n",
    "        random_transform = random.choice(possible_transforms)\n",
    "        (board, response) = get_symmetry(board, response, random_transform)\n",
    "    return(board, response)\n",
    "\n",
    "\n",
    "# Get list of optimal moves w/ responses\n",
    "moves = get_moves_from_csv('base_tic_tac_toe_moves.csv')\n",
    "\n",
    "# Create a train set:\n",
    "train_length = 500\n",
    "train_set = []\n",
    "for t in range(train_length):\n",
    "    train_set.append(get_rand_move(moves))\n",
    "\n",
    "# To see if the network learns anything new, we will remove\n",
    "# all instances of the board [-1, 0, 0, 1, -1, -1, 0, 0, 1],\n",
    "# which the optimal response will be the index '6'.  We will\n",
    "# Test this at the end.\n",
    "test_board = [-1, 0, 0, 1, -1, -1, 0, 0, 1]\n",
    "train_set = [x for x in train_set if x[0] != test_board]\n",
    "\n",
    "def init_weights(shape):\n",
    "    return(tf.Variable(tf.random_normal(shape)))\n",
    "\n",
    "\n",
    "def model(X, A1, A2, bias1, bias2):\n",
    "    layer1 = tf.nn.sigmoid(tf.add(tf.matmul(X, A1), bias1))\n",
    "    layer2 = tf.add(tf.matmul(layer1, A2), bias2)\n",
    "    return(layer2) # note that we dont take the softmax at the end because our cost fn does that for us\n",
    "\n",
    "\n",
    "X = tf.placeholder(dtype=tf.float32, shape=[None, 9])\n",
    "Y = tf.placeholder(dtype=tf.int32, shape=[None])\n",
    "\n",
    "A1 = init_weights([9, 81])\n",
    "bias1 = init_weights([81])\n",
    "A2 = init_weights([81, 9])\n",
    "bias2 = init_weights([9])\n",
    "\n",
    "model_output = model(X, A1, A2, bias1, bias2)\n",
    "\n",
    "loss = tf.reduce_mean(tf.nn.sparse_softmax_cross_entropy_with_logits(logits=model_output, labels=Y))\n",
    "train_step = tf.train.GradientDescentOptimizer(0.025).minimize(loss)\n",
    "prediction = tf.argmax(model_output, 1)\n",
    "\n",
    "sess = tf.Session()\n",
    "init = tf.global_variables_initializer()\n",
    "sess.run(init)\n",
    "\n",
    "loss_vec = []\n",
    "for i in range(10000):\n",
    "    rand_indices = np.random.choice(range(len(train_set)), batch_size, replace=False)\n",
    "    batch_data = [train_set[i] for i in rand_indices]\n",
    "    x_input = [x[0] for x in batch_data]\n",
    "    y_target = np.array([y[1] for y in batch_data])\n",
    "    sess.run(train_step, feed_dict={X: x_input, Y: y_target})\n",
    "    \n",
    "    temp_loss = sess.run(loss, feed_dict={X: x_input, Y: y_target})\n",
    "    loss_vec.append(temp_loss)\n",
    "    if i%500==0:\n",
    "        print('iteration ' + str(i) + ' Loss: ' + str(temp_loss))\n",
    "                \n",
    "                \n",
    "# Print loss\n",
    "plt.plot(loss_vec, 'k-', label='Loss')\n",
    "plt.title('Loss (MSE) per Generation')\n",
    "plt.xlabel('Generation')\n",
    "plt.ylabel('Loss')\n",
    "plt.show()\n",
    "\n",
    "# Make Prediction:\n",
    "test_boards = [test_board]\n",
    "feed_dict = {X: test_boards}\n",
    "logits = sess.run(model_output, feed_dict=feed_dict)\n",
    "predictions = sess.run(prediction, feed_dict=feed_dict)\n",
    "print(predictions)\n",
    "\n",
    "# Declare function to check for win\n",
    "def check(board):\n",
    "    wins = [[0,1,2], [3,4,5], [6,7,8], [0,3,6], [1,4,7], [2,5,8], [0,4,8], [2,4,6]]\n",
    "    for i in range(len(wins)):\n",
    "        if board[wins[i][0]]==board[wins[i][1]]==board[wins[i][2]]==1.:\n",
    "            return(1)\n",
    "        elif board[wins[i][0]]==board[wins[i][1]]==board[wins[i][2]]==-1.:\n",
    "            return(1)\n",
    "    return(0)\n",
    "\n",
    "# Let's play against our model\n",
    "game_tracker = [0., 0., 0., 0., 0., 0., 0., 0., 0.]\n",
    "win_logical = False\n",
    "num_moves = 0\n",
    "while not win_logical:\n",
    "    player_index = input('Input index of your move (0-8): ')\n",
    "    num_moves += 1\n",
    "    # Add player move to game\n",
    "    game_tracker[int(player_index)] = 1.\n",
    "    \n",
    "    # Get model's move by first getting all the logits for each index\n",
    "    [potential_moves] = sess.run(model_output, feed_dict={X: [game_tracker]})\n",
    "    # Now find allowed moves (where game tracker values = 0.0)\n",
    "    allowed_moves = [ix for ix,x in enumerate(game_tracker) if x==0.0]\n",
    "    # Find best move by taking argmax of logits if they are in allowed moves\n",
    "    model_move = np.argmax([x if ix in allowed_moves else -999.0 for ix,x in enumerate(potential_moves)])\n",
    "    \n",
    "    # Add model move to game\n",
    "    game_tracker[int(model_move)] = -1.\n",
    "    print('Model has moved')\n",
    "    print_board(game_tracker)\n",
    "    # Now check for win or too many moves\n",
    "    if check(game_tracker)==1 or num_moves>=5:\n",
    "        print('Game Over!')\n",
    "        win_logical = True"
   ]
  },
  {
   "cell_type": "code",
   "execution_count": null,
   "metadata": {
    "collapsed": true
   },
   "outputs": [],
   "source": []
  }
 ],
 "metadata": {
  "kernelspec": {
   "display_name": "Python 3",
   "language": "python",
   "name": "python3"
  },
  "language_info": {
   "codemirror_mode": {
    "name": "ipython",
    "version": 3
   },
   "file_extension": ".py",
   "mimetype": "text/x-python",
   "name": "python",
   "nbconvert_exporter": "python",
   "pygments_lexer": "ipython3",
   "version": "3.6.2"
  }
 },
 "nbformat": 4,
 "nbformat_minor": 2
}
