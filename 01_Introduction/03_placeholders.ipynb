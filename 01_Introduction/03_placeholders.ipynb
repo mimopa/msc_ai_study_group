{
 "cells": [
  {
   "cell_type": "markdown",
   "metadata": {},
   "source": [
    "## プレースホルダ\n",
    "TensorFlowでプレースホルダを使用する方法を紹介します。  \n",
    "最初に必要なライブラリをインポートし、グラフセッションをリセットします。"
   ]
  },
  {
   "cell_type": "code",
   "execution_count": 1,
   "metadata": {
    "collapsed": true
   },
   "outputs": [],
   "source": [
    "import numpy as np\n",
    "import tensorflow as tf\n",
    "from tensorflow.python.framework import ops\n",
    "ops.reset_default_graph()"
   ]
  },
  {
   "cell_type": "markdown",
   "metadata": {},
   "source": [
    "グラフセッションを開始します。"
   ]
  },
  {
   "cell_type": "code",
   "execution_count": 2,
   "metadata": {
    "collapsed": true
   },
   "outputs": [],
   "source": [
    "sess = tf.Session()"
   ]
  },
  {
   "cell_type": "markdown",
   "metadata": {},
   "source": [
    "### プレースホルダを宣言する\n",
    "TensorFlowの関数tf.placeholder（）を使用して、データ型引数（tf.float32）と形状引数（4,4）を受け取るプレースホルダを宣言します。形状はタプルまたはリスト[4,4]にすることができます。"
   ]
  },
  {
   "cell_type": "code",
   "execution_count": 3,
   "metadata": {
    "collapsed": true
   },
   "outputs": [],
   "source": [
    "x = tf.placeholder(tf.float32, shape=(4, 4))"
   ]
  },
  {
   "cell_type": "markdown",
   "metadata": {},
   "source": [
    "プレースホルダの使い方については、そのプレースホルダの入力データとTensorboardで視覚化できる操作を作成します。  \n",
    "feed_dictの使用に注意してください。ここでは、xの値を計算グラフに送ります。"
   ]
  },
  {
   "cell_type": "code",
   "execution_count": 4,
   "metadata": {},
   "outputs": [
    {
     "name": "stdout",
     "output_type": "stream",
     "text": [
      "[[ 0.58151072  0.34176034  0.06961016  0.02569318]\n",
      " [ 0.54335523  0.48827365  0.59535074  0.09259212]\n",
      " [ 0.72202748  0.36466759  0.43397471  0.54621112]\n",
      " [ 0.43325529  0.85063809  0.7165463   0.67005324]]\n"
     ]
    }
   ],
   "source": [
    "# Input data to placeholder. note that 'rand_array' and 'x' are the same shape.\n",
    "rand_array = np.random.rand(4, 4)\n",
    "\n",
    "# Create a Tensor to perform an operation (here, y will be equal to x, a 4x4 matrix(x))\n",
    "y = tf.identity(x)\n",
    "\n",
    "# Print the output, feeding the value of x into computational graph\n",
    "print(sess.run(y, feed_dict={x: rand_array}))"
   ]
  },
  {
   "cell_type": "markdown",
   "metadata": {},
   "source": [
    "Tensorboardでこれを視覚化するために、要約をマージしてログファイルに書き込みます。"
   ]
  },
  {
   "cell_type": "code",
   "execution_count": 5,
   "metadata": {
    "collapsed": true
   },
   "outputs": [],
   "source": [
    "merged = tf.summary.merge_all()\n",
    "writer = tf.summary.FileWriter(\"/tmp/variable_logs\", sess.graph)"
   ]
  },
  {
   "cell_type": "markdown",
   "metadata": {},
   "source": [
    "プロンプトで次のコマンドを実行します  \n",
    "tensorboard --logdir=/tmp  \n",
    "計算グラフを視覚化するためにクロムをどこにナビゲートするかがわかります。デフォルトは  \n",
    "http://0.0.0.0:6006/"
   ]
  },
  {
   "cell_type": "code",
   "execution_count": null,
   "metadata": {
    "collapsed": true
   },
   "outputs": [],
   "source": []
  }
 ],
 "metadata": {
  "kernelspec": {
   "display_name": "Python 3",
   "language": "python",
   "name": "python3"
  },
  "language_info": {
   "codemirror_mode": {
    "name": "ipython",
    "version": 3
   },
   "file_extension": ".py",
   "mimetype": "text/x-python",
   "name": "python",
   "nbconvert_exporter": "python",
   "pygments_lexer": "ipython3",
   "version": "3.6.2"
  }
 },
 "nbformat": 4,
 "nbformat_minor": 2
}
